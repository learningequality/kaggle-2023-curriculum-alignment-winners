{
 "cells": [
  {
   "cell_type": "code",
   "execution_count": 1,
   "id": "e61ae04a",
   "metadata": {
    "_cell_guid": "b1076dfc-b9ad-4769-8c92-a6c4dae69d19",
    "_uuid": "8f2839f25d086af736a60e9eeb907d3b93b6e0e5",
    "execution": {
     "iopub.execute_input": "2023-03-13T06:48:43.561879Z",
     "iopub.status.busy": "2023-03-13T06:48:43.561410Z",
     "iopub.status.idle": "2023-03-13T06:49:16.297013Z",
     "shell.execute_reply": "2023-03-13T06:49:16.295063Z"
    },
    "papermill": {
     "duration": 32.751208,
     "end_time": "2023-03-13T06:49:16.300934",
     "exception": false,
     "start_time": "2023-03-13T06:48:43.549726",
     "status": "completed"
    },
    "tags": []
   },
   "outputs": [
    {
     "name": "stdout",
     "output_type": "stream",
     "text": [
      "Processing /kaggle/input/sparse-dot-topn-033/sparse_dot_topn-0.3.3-cp37-cp37m-manylinux_2_17_x86_64.manylinux2014_x86_64.whl\r\n",
      "Requirement already satisfied: numpy>=1.14.5 in /opt/conda/lib/python3.7/site-packages (from sparse-dot-topn==0.3.3) (1.21.6)\r\n",
      "Requirement already satisfied: scipy>=1.2.3 in /opt/conda/lib/python3.7/site-packages (from sparse-dot-topn==0.3.3) (1.7.3)\r\n",
      "Installing collected packages: sparse-dot-topn\r\n",
      "Successfully installed sparse-dot-topn-0.3.3\r\n",
      "\u001b[33mWARNING: Running pip as the 'root' user can result in broken permissions and conflicting behaviour with the system package manager. It is recommended to use a virtual environment instead: https://pip.pypa.io/warnings/venv\u001b[0m\u001b[33m\r\n",
      "\u001b[0m\u001b[33mWARNING: There was an error checking the latest version of pip.\u001b[0m\u001b[33m\r\n",
      "\u001b[0m"
     ]
    }
   ],
   "source": [
    "!pip install /kaggle/input/sparse-dot-topn-033/sparse_dot_topn-0.3.3-cp37-cp37m-manylinux_2_17_x86_64.manylinux2014_x86_64.whl"
   ]
  },
  {
   "cell_type": "code",
   "execution_count": 2,
   "id": "f57e045d",
   "metadata": {
    "execution": {
     "iopub.execute_input": "2023-03-13T06:49:16.332132Z",
     "iopub.status.busy": "2023-03-13T06:49:16.331583Z",
     "iopub.status.idle": "2023-03-13T06:49:40.669069Z",
     "shell.execute_reply": "2023-03-13T06:49:40.667606Z"
    },
    "papermill": {
     "duration": 24.356921,
     "end_time": "2023-03-13T06:49:40.672361",
     "exception": false,
     "start_time": "2023-03-13T06:49:16.315440",
     "status": "completed"
    },
    "tags": []
   },
   "outputs": [],
   "source": [
    "import numpy as np\n",
    "import pandas as pd\n",
    "from sklearn.feature_extraction.text import TfidfVectorizer\n",
    "from sparse_dot_topn import awesome_cossim_topn\n",
    "from tqdm import tqdm\n",
    "\n",
    "MAX_LEN = 64\n",
    "\n",
    "\n",
    "content_df = pd.read_csv(\"/kaggle/input/learning-equality-curriculum-recommendations/content.csv\")\n",
    "topic_df = pd.read_csv(\"/kaggle/input/learning-equality-curriculum-recommendations/topics.csv\")"
   ]
  },
  {
   "cell_type": "code",
   "execution_count": 3,
   "id": "ab87baff",
   "metadata": {
    "execution": {
     "iopub.execute_input": "2023-03-13T06:49:40.693516Z",
     "iopub.status.busy": "2023-03-13T06:49:40.692715Z",
     "iopub.status.idle": "2023-03-13T06:49:40.949704Z",
     "shell.execute_reply": "2023-03-13T06:49:40.948260Z"
    },
    "papermill": {
     "duration": 0.271075,
     "end_time": "2023-03-13T06:49:40.952426",
     "exception": false,
     "start_time": "2023-03-13T06:49:40.681351",
     "status": "completed"
    },
    "tags": []
   },
   "outputs": [
    {
     "data": {
      "text/plain": [
       "1.0"
      ]
     },
     "execution_count": 3,
     "metadata": {},
     "output_type": "execute_result"
    }
   ],
   "source": [
    "train_contents = np.load(\"/kaggle/input/lecr-precomputed/train_content_ids.npy\", allow_pickle=True)\n",
    "content_df[\"is_train\"] = content_df[\"id\"].isin(set(train_contents))\n",
    "content_df[\"is_train\"].mean()"
   ]
  },
  {
   "cell_type": "code",
   "execution_count": 4,
   "id": "2ea1c95b",
   "metadata": {
    "execution": {
     "iopub.execute_input": "2023-03-13T06:49:40.973433Z",
     "iopub.status.busy": "2023-03-13T06:49:40.972602Z",
     "iopub.status.idle": "2023-03-13T06:49:41.157236Z",
     "shell.execute_reply": "2023-03-13T06:49:41.155928Z"
    },
    "papermill": {
     "duration": 0.199229,
     "end_time": "2023-03-13T06:49:41.160781",
     "exception": false,
     "start_time": "2023-03-13T06:49:40.961552",
     "status": "completed"
    },
    "tags": []
   },
   "outputs": [],
   "source": [
    "content_df.loc[content_df[\"title\"] == content_df[\"description\"], \"description\"] = None\n",
    "content_df[\"description\"].fillna(content_df[\"text\"].fillna(\"\").apply(lambda x: x[:256]), inplace=True)"
   ]
  },
  {
   "cell_type": "code",
   "execution_count": 5,
   "id": "a572359a",
   "metadata": {
    "execution": {
     "iopub.execute_input": "2023-03-13T06:49:41.180911Z",
     "iopub.status.busy": "2023-03-13T06:49:41.180476Z",
     "iopub.status.idle": "2023-03-13T06:49:53.826062Z",
     "shell.execute_reply": "2023-03-13T06:49:53.824195Z"
    },
    "papermill": {
     "duration": 12.659717,
     "end_time": "2023-03-13T06:49:53.829551",
     "exception": false,
     "start_time": "2023-03-13T06:49:41.169834",
     "status": "completed"
    },
    "tags": []
   },
   "outputs": [],
   "source": [
    "import sys, os\n",
    "from tqdm import tqdm\n",
    "import numpy as np\n",
    "import pandas as pd\n",
    "from sklearn.preprocessing import LabelEncoder\n",
    "from sklearn.model_selection import train_test_split\n",
    "from torch.utils.data import Dataset, DataLoader\n",
    "import torch\n",
    "import torch.nn.functional as F\n",
    "import torch.nn as nn\n",
    "import math\n",
    "from transformers import AutoConfig, AutoTokenizer, AutoModelForMaskedLM, AutoModel\n",
    "\n",
    "\n",
    "class VecModel(nn.Module):\n",
    "    def __init__(self, model_name, size, has_top=True):\n",
    "        super(VecModel, self).__init__()\n",
    "        conf = AutoConfig.from_pretrained(model_name)\n",
    "        self.backbone = AutoModel.from_config(conf)\n",
    "        \n",
    "        self.has_top = has_top\n",
    "        \n",
    "        if self.has_top:\n",
    "            self.bn = nn.BatchNorm1d(size)\n",
    "            self.top = nn.Linear(size, size)\n",
    "\n",
    "    def forward(self, ids, mask):\n",
    "        out = self.backbone(ids, mask)[0]\n",
    "        out = (out[:, 1:MAX_LEN//2, :]*mask[:, 1:MAX_LEN//2, None]).mean(axis=1)\n",
    "        \n",
    "        if self.has_top:\n",
    "            out = self.top(self.bn(out))\n",
    "        \n",
    "        return F.normalize(out)\n",
    "\n",
    "    def save(self, path):\n",
    "        torch.save(self.state_dict(), path)\n",
    "\n",
    "    def load(self, path):\n",
    "        self.load_state_dict(torch.load(path, map_location='cpu'))"
   ]
  },
  {
   "cell_type": "code",
   "execution_count": 6,
   "id": "0439b619",
   "metadata": {
    "execution": {
     "iopub.execute_input": "2023-03-13T06:49:53.851827Z",
     "iopub.status.busy": "2023-03-13T06:49:53.850953Z",
     "iopub.status.idle": "2023-03-13T06:49:54.318402Z",
     "shell.execute_reply": "2023-03-13T06:49:54.316802Z"
    },
    "papermill": {
     "duration": 0.481655,
     "end_time": "2023-03-13T06:49:54.321983",
     "exception": false,
     "start_time": "2023-03-13T06:49:53.840328",
     "status": "completed"
    },
    "tags": []
   },
   "outputs": [
    {
     "name": "stdout",
     "output_type": "stream",
     "text": [
      "(61517, 9)\n",
      "(61517, 10)\n",
      "(61517, 12)\n",
      "(61517, 14)\n"
     ]
    },
    {
     "data": {
      "text/plain": [
       "(61517, 15)"
      ]
     },
     "execution_count": 6,
     "metadata": {},
     "output_type": "execute_result"
    }
   ],
   "source": [
    "sub_df = pd.read_csv(\"/kaggle/input/learning-equality-curriculum-recommendations/sample_submission.csv\")\n",
    "\n",
    "topic_df[\"title\"] = topic_df[\"title\"].fillna(\"\")\n",
    "content_df[\"title\"].fillna(\"\", inplace=True)\n",
    "\n",
    "\n",
    "title_map = topic_df.set_index(\"id\")[\"title\"].to_dict()\n",
    "parent_map = topic_df.set_index(\"id\")[\"parent\"].to_dict()\n",
    "\n",
    "topic_df = topic_df[topic_df[\"has_content\"]].reset_index(drop=True)\n",
    "print(topic_df.shape)\n",
    "\n",
    "topic_df[\"parent_title\"] = topic_df[\"parent\"].apply(lambda x: title_map.get(x, \"\"))\n",
    "print(topic_df.shape)\n",
    "\n",
    "topic_df[\"grandpa\"] = topic_df[\"parent\"].apply(lambda x: parent_map.get(x))\n",
    "topic_df[\"grandpa_title\"] = topic_df[\"grandpa\"].apply(lambda x: title_map.get(x, \"\"))\n",
    "print(topic_df.shape)\n",
    "\n",
    "topic_df[\"ggrandpa\"] = topic_df[\"grandpa\"].apply(lambda x: parent_map.get(x))\n",
    "topic_df[\"ggrandpa_title\"] = topic_df[\"ggrandpa\"].apply(lambda x: title_map.get(x, \"\"))\n",
    "print(topic_df.shape)\n",
    "\n",
    "topic_df[\"parent\"] = topic_df[\"parent\"].fillna(topic_df[\"id\"])\n",
    "\n",
    "topic_df[\"sub\"] = topic_df[\"id\"].isin(sub_df[\"topic_id\"])\n",
    "topic_df.shape"
   ]
  },
  {
   "cell_type": "code",
   "execution_count": 7,
   "id": "75e5ec17",
   "metadata": {
    "execution": {
     "iopub.execute_input": "2023-03-13T06:49:54.345420Z",
     "iopub.status.busy": "2023-03-13T06:49:54.342494Z",
     "iopub.status.idle": "2023-03-13T06:49:54.946681Z",
     "shell.execute_reply": "2023-03-13T06:49:54.945486Z"
    },
    "papermill": {
     "duration": 0.617957,
     "end_time": "2023-03-13T06:49:54.949587",
     "exception": false,
     "start_time": "2023-03-13T06:49:54.331630",
     "status": "completed"
    },
    "tags": []
   },
   "outputs": [],
   "source": [
    "def extract_number(x, is_subtopic=False):\n",
    "    chapter, rest = x.split(\":\", 1)\n",
    "    \n",
    "    if is_subtopic:\n",
    "        chapter = chapter.split(\".\", 1)[0]\n",
    "        x = f\"{chapter}:{rest}\"\n",
    "    chapter = int(chapter)\n",
    "\n",
    "    return chapter, x\n",
    "\n",
    "\n",
    "def extract_chapters(df, is_subtopic):\n",
    "    titles = df[\"title\"].fillna(\"\").values\n",
    "    \n",
    "    chapters = np.zeros(len(titles))\n",
    "    new_titles = np.array(titles)\n",
    "    \n",
    "    for i, title in enumerate(titles):\n",
    "        try:\n",
    "            chapters[i], new_titles[i] = extract_number(title, is_subtopic)\n",
    "        except:\n",
    "            pass\n",
    "        \n",
    "    df[\"chapter\"], df[\"title\"] = chapters, new_titles\n",
    "    df[\"chapter\"] = df[\"chapter\"].astype(int)\n",
    "    \n",
    "    df.loc[df[\"chapter\"] == 0, \"chapter\"] = None\n",
    "    return df\n",
    "    \n",
    "content_df[\"t\"] = content_df[\"title\"].fillna(\"\") + \" | \" + content_df[\"kind\"].fillna(\"\") + \" | \" + content_df[\"description\"].fillna(\"\")\n",
    "\n",
    "topic_df = extract_chapters(topic_df, False)\n",
    "content_df = extract_chapters(content_df, True)"
   ]
  },
  {
   "cell_type": "code",
   "execution_count": 8,
   "id": "6b53ea51",
   "metadata": {
    "execution": {
     "iopub.execute_input": "2023-03-13T06:49:54.970830Z",
     "iopub.status.busy": "2023-03-13T06:49:54.970410Z",
     "iopub.status.idle": "2023-03-13T06:49:55.104923Z",
     "shell.execute_reply": "2023-03-13T06:49:55.103255Z"
    },
    "papermill": {
     "duration": 0.148793,
     "end_time": "2023-03-13T06:49:55.107851",
     "exception": false,
     "start_time": "2023-03-13T06:49:54.959058",
     "status": "completed"
    },
    "tags": []
   },
   "outputs": [],
   "source": [
    "topic_df[\"t\"] = topic_df[\"title\"] + \" @ \" + topic_df[\"parent_title\"] + \" @ \" + topic_df[\"grandpa_title\"] + \" @ \" + topic_df[\"ggrandpa_title\"] + \" | \" + topic_df[\"description\"].fillna(\"\")"
   ]
  },
  {
   "cell_type": "code",
   "execution_count": 9,
   "id": "3722c741",
   "metadata": {
    "execution": {
     "iopub.execute_input": "2023-03-13T06:49:55.129100Z",
     "iopub.status.busy": "2023-03-13T06:49:55.128639Z",
     "iopub.status.idle": "2023-03-13T06:49:55.815792Z",
     "shell.execute_reply": "2023-03-13T06:49:55.814516Z"
    },
    "papermill": {
     "duration": 0.701674,
     "end_time": "2023-03-13T06:49:55.818883",
     "exception": false,
     "start_time": "2023-03-13T06:49:55.117209",
     "status": "completed"
    },
    "tags": []
   },
   "outputs": [
    {
     "data": {
      "text/html": [
       "<div>\n",
       "<style scoped>\n",
       "    .dataframe tbody tr th:only-of-type {\n",
       "        vertical-align: middle;\n",
       "    }\n",
       "\n",
       "    .dataframe tbody tr th {\n",
       "        vertical-align: top;\n",
       "    }\n",
       "\n",
       "    .dataframe thead th {\n",
       "        text-align: right;\n",
       "    }\n",
       "</style>\n",
       "<table border=\"1\" class=\"dataframe\">\n",
       "  <thead>\n",
       "    <tr style=\"text-align: right;\">\n",
       "      <th></th>\n",
       "      <th>topic_id</th>\n",
       "      <th>content_id</th>\n",
       "    </tr>\n",
       "  </thead>\n",
       "  <tbody>\n",
       "    <tr>\n",
       "      <th>0</th>\n",
       "      <td>t_00004da3a1b2</td>\n",
       "      <td>c_1108dd0c7a5d</td>\n",
       "    </tr>\n",
       "    <tr>\n",
       "      <th>1</th>\n",
       "      <td>t_00004da3a1b2</td>\n",
       "      <td>c_376c5a8eb028</td>\n",
       "    </tr>\n",
       "    <tr>\n",
       "      <th>2</th>\n",
       "      <td>t_00004da3a1b2</td>\n",
       "      <td>c_5bc0e1e2cba0</td>\n",
       "    </tr>\n",
       "    <tr>\n",
       "      <th>3</th>\n",
       "      <td>t_00004da3a1b2</td>\n",
       "      <td>c_76231f9d0b5e</td>\n",
       "    </tr>\n",
       "    <tr>\n",
       "      <th>4</th>\n",
       "      <td>t_00068291e9a4</td>\n",
       "      <td>c_639ea2ef9c95</td>\n",
       "    </tr>\n",
       "  </tbody>\n",
       "</table>\n",
       "</div>"
      ],
      "text/plain": [
       "         topic_id      content_id\n",
       "0  t_00004da3a1b2  c_1108dd0c7a5d\n",
       "1  t_00004da3a1b2  c_376c5a8eb028\n",
       "2  t_00004da3a1b2  c_5bc0e1e2cba0\n",
       "3  t_00004da3a1b2  c_76231f9d0b5e\n",
       "4  t_00068291e9a4  c_639ea2ef9c95"
      ]
     },
     "execution_count": 9,
     "metadata": {},
     "output_type": "execute_result"
    }
   ],
   "source": [
    "corr_df = pd.read_csv(\"/kaggle/input/learning-equality-curriculum-recommendations/correlations.csv\")\n",
    "\n",
    "corr_df[\"content_ids\"] = corr_df[\"content_ids\"].apply(lambda x: x.split())\n",
    "\n",
    "corr_df = corr_df.explode('content_ids').reset_index(drop=True).rename(columns={\"content_ids\": \"content_id\"})\n",
    "\n",
    "corr_df.head()"
   ]
  },
  {
   "cell_type": "code",
   "execution_count": 10,
   "id": "16cca6d8",
   "metadata": {
    "execution": {
     "iopub.execute_input": "2023-03-13T06:49:55.840171Z",
     "iopub.status.busy": "2023-03-13T06:49:55.839022Z",
     "iopub.status.idle": "2023-03-13T06:49:57.012891Z",
     "shell.execute_reply": "2023-03-13T06:49:57.011750Z"
    },
    "papermill": {
     "duration": 1.187608,
     "end_time": "2023-03-13T06:49:57.015817",
     "exception": false,
     "start_time": "2023-03-13T06:49:55.828209",
     "status": "completed"
    },
    "tags": []
   },
   "outputs": [],
   "source": [
    "MODEL_DIR = \"/kaggle/input/lecr-models-v36-mini\"\n",
    "\n",
    "tokenizer = AutoTokenizer.from_pretrained(MODEL_DIR)"
   ]
  },
  {
   "cell_type": "code",
   "execution_count": 11,
   "id": "0315672e",
   "metadata": {
    "execution": {
     "iopub.execute_input": "2023-03-13T06:49:57.037845Z",
     "iopub.status.busy": "2023-03-13T06:49:57.036566Z",
     "iopub.status.idle": "2023-03-13T06:50:04.301824Z",
     "shell.execute_reply": "2023-03-13T06:50:04.300127Z"
    },
    "papermill": {
     "duration": 7.279443,
     "end_time": "2023-03-13T06:50:04.305128",
     "exception": false,
     "start_time": "2023-03-13T06:49:57.025685",
     "status": "completed"
    },
    "tags": []
   },
   "outputs": [],
   "source": [
    "model_w = [1.0]\n",
    "\n",
    "\n",
    "models = [VecModel(MODEL_DIR, 384, has_top=False)]\n",
    "for model in models:\n",
    "    model.eval()\n",
    "    \n",
    "models[0].load(\"/kaggle/input/lecr-models-v36-mini-full/vec_model_v36_mini_full.pth\")"
   ]
  },
  {
   "cell_type": "code",
   "execution_count": 12,
   "id": "7818ce83",
   "metadata": {
    "execution": {
     "iopub.execute_input": "2023-03-13T06:50:04.327075Z",
     "iopub.status.busy": "2023-03-13T06:50:04.326613Z",
     "iopub.status.idle": "2023-03-13T06:50:04.665764Z",
     "shell.execute_reply": "2023-03-13T06:50:04.664461Z"
    },
    "papermill": {
     "duration": 0.353278,
     "end_time": "2023-03-13T06:50:04.668566",
     "exception": false,
     "start_time": "2023-03-13T06:50:04.315288",
     "status": "completed"
    },
    "tags": []
   },
   "outputs": [
    {
     "data": {
      "text/plain": [
       "60"
      ]
     },
     "execution_count": 12,
     "metadata": {},
     "output_type": "execute_result"
    }
   ],
   "source": [
    "import gc\n",
    "\n",
    "\n",
    "gc.collect()"
   ]
  },
  {
   "cell_type": "code",
   "execution_count": 13,
   "id": "158ee6ef",
   "metadata": {
    "execution": {
     "iopub.execute_input": "2023-03-13T06:50:04.690573Z",
     "iopub.status.busy": "2023-03-13T06:50:04.689209Z",
     "iopub.status.idle": "2023-03-13T06:50:05.302143Z",
     "shell.execute_reply": "2023-03-13T06:50:05.299741Z"
    },
    "papermill": {
     "duration": 0.627607,
     "end_time": "2023-03-13T06:50:05.305852",
     "exception": false,
     "start_time": "2023-03-13T06:50:04.678245",
     "status": "completed"
    },
    "tags": []
   },
   "outputs": [
    {
     "name": "stderr",
     "output_type": "stream",
     "text": [
      "100%|██████████| 5/5 [00:00<00:00, 15.11it/s]\n"
     ]
    },
    {
     "data": {
      "text/plain": [
       "(5, 384)"
      ]
     },
     "execution_count": 13,
     "metadata": {},
     "output_type": "execute_result"
    }
   ],
   "source": [
    "from sklearn.neighbors import NearestNeighbors\n",
    "\n",
    "\n",
    "def get_matches(V_topic, V_content, topic_ids, content_ids, n_neighbors=5):\n",
    "    \n",
    "    neighbors_model = NearestNeighbors(n_neighbors=n_neighbors, metric='cosine', n_jobs=-1)\n",
    "    neighbors_model.fit(V_content)\n",
    "    dists, indices = neighbors_model.kneighbors(V_topic)\n",
    "    \n",
    "    res_df = pd.DataFrame({\"topic_id\": np.repeat(topic_ids, n_neighbors),\n",
    "                           'content_id': content_ids[indices.ravel()],\n",
    "                           'vec_dist': dists.ravel()\n",
    "                          })\n",
    "    return res_df\n",
    "\n",
    "\n",
    "def inference_one(text):\n",
    "    encoding = tokenizer(text, truncation=True, max_length=MAX_LEN)\n",
    "    encoding = {key: torch.as_tensor(val).unsqueeze(0) for key, val in encoding.items()}\n",
    "    \n",
    "    \n",
    "    with torch.no_grad():\n",
    "        ids, mask = encoding[\"input_ids\"], encoding[\"attention_mask\"]\n",
    "        vec = torch.cat([model_w[i]*models[i](ids, mask) for i in range(len(models))], axis=1)\n",
    "        \n",
    "        \n",
    "    return vec.detach().cpu().numpy()[0]\n",
    "\n",
    "def inference(df):\n",
    "    V = np.zeros((df.shape[0], 384))\n",
    "    \n",
    "    for i, text in tqdm(enumerate(df[\"t\"].values), total=df.shape[0]):\n",
    "        V[i] = inference_one(text)\n",
    "        \n",
    "    return V\n",
    "\n",
    "\n",
    "topic_sub_df = topic_df[topic_df[\"sub\"]].reset_index(drop=True)\n",
    "\n",
    "V_topic = inference(topic_sub_df)\n",
    "V_topic.shape"
   ]
  },
  {
   "cell_type": "code",
   "execution_count": 14,
   "id": "4d1c7347",
   "metadata": {
    "execution": {
     "iopub.execute_input": "2023-03-13T06:50:05.329784Z",
     "iopub.status.busy": "2023-03-13T06:50:05.328498Z",
     "iopub.status.idle": "2023-03-13T06:50:05.650619Z",
     "shell.execute_reply": "2023-03-13T06:50:05.649255Z"
    },
    "papermill": {
     "duration": 0.336524,
     "end_time": "2023-03-13T06:50:05.653299",
     "exception": false,
     "start_time": "2023-03-13T06:50:05.316775",
     "status": "completed"
    },
    "tags": []
   },
   "outputs": [
    {
     "data": {
      "text/plain": [
       "(82424, 11)"
      ]
     },
     "execution_count": 14,
     "metadata": {},
     "output_type": "execute_result"
    }
   ],
   "source": [
    "content_df = content_df[content_df[\"language\"].isin(topic_sub_df[\"language\"].unique())].reset_index(drop=True)\n",
    "content_df.shape"
   ]
  },
  {
   "cell_type": "code",
   "execution_count": 15,
   "id": "0dd18a61",
   "metadata": {
    "execution": {
     "iopub.execute_input": "2023-03-13T06:50:05.676003Z",
     "iopub.status.busy": "2023-03-13T06:50:05.675565Z",
     "iopub.status.idle": "2023-03-13T06:50:09.156633Z",
     "shell.execute_reply": "2023-03-13T06:50:09.155161Z"
    },
    "papermill": {
     "duration": 3.496296,
     "end_time": "2023-03-13T06:50:09.159559",
     "exception": false,
     "start_time": "2023-03-13T06:50:05.663263",
     "status": "completed"
    },
    "tags": []
   },
   "outputs": [
    {
     "name": "stderr",
     "output_type": "stream",
     "text": [
      "100%|██████████| 82424/82424 [00:00<00:00, 201800.51it/s]\n"
     ]
    },
    {
     "data": {
      "text/plain": [
       "(82424, 384)"
      ]
     },
     "execution_count": 15,
     "metadata": {},
     "output_type": "execute_result"
    }
   ],
   "source": [
    "def inference_with_lookup(df, path):\n",
    "    vecs = np.load(path, allow_pickle=True)\n",
    "\n",
    "    VC = vecs[\"vec\"]\n",
    "    vec_idx_map = {k: i for i, k in enumerate(vecs[\"t\"])}\n",
    "\n",
    "\n",
    "    V = np.zeros((df.shape[0], 384))\n",
    "    \n",
    "    for i, text in tqdm(enumerate(df[\"t\"].values), total=df.shape[0]):\n",
    "        idx = vec_idx_map.get(text)\n",
    "        \n",
    "        if idx is None:\n",
    "            V[i] = inference_one(text)\n",
    "        else:\n",
    "            V[i] = VC[idx]\n",
    "        \n",
    "    return V\n",
    "\n",
    "V_content = inference_with_lookup(content_df, \"/kaggle/input/lecr-models-v36-mini-full/V_content.npz\")\n",
    "V_content.shape"
   ]
  },
  {
   "cell_type": "code",
   "execution_count": 16,
   "id": "90285c45",
   "metadata": {
    "execution": {
     "iopub.execute_input": "2023-03-13T06:50:09.183360Z",
     "iopub.status.busy": "2023-03-13T06:50:09.182756Z",
     "iopub.status.idle": "2023-03-13T06:50:10.758540Z",
     "shell.execute_reply": "2023-03-13T06:50:10.756984Z"
    },
    "papermill": {
     "duration": 1.590918,
     "end_time": "2023-03-13T06:50:10.761121",
     "exception": false,
     "start_time": "2023-03-13T06:50:09.170203",
     "status": "completed"
    },
    "tags": []
   },
   "outputs": [
    {
     "name": "stderr",
     "output_type": "stream",
     "text": [
      "100%|██████████| 61512/61512 [00:00<00:00, 184997.31it/s]\n"
     ]
    },
    {
     "data": {
      "text/plain": [
       "(61512, 384)"
      ]
     },
     "execution_count": 16,
     "metadata": {},
     "output_type": "execute_result"
    }
   ],
   "source": [
    "train_df = topic_df[~topic_df[\"sub\"]].reset_index(drop=True)\n",
    "\n",
    "V_topic_train = inference_with_lookup(train_df, \"/kaggle/input/lecr-models-v36-mini-full/V_topic_train.npz\")\n",
    "V_topic_train.shape"
   ]
  },
  {
   "cell_type": "code",
   "execution_count": 17,
   "id": "d363a7d9",
   "metadata": {
    "execution": {
     "iopub.execute_input": "2023-03-13T06:50:10.785673Z",
     "iopub.status.busy": "2023-03-13T06:50:10.784980Z",
     "iopub.status.idle": "2023-03-13T06:50:11.430201Z",
     "shell.execute_reply": "2023-03-13T06:50:11.428481Z"
    },
    "papermill": {
     "duration": 0.662513,
     "end_time": "2023-03-13T06:50:11.434807",
     "exception": false,
     "start_time": "2023-03-13T06:50:10.772294",
     "status": "completed"
    },
    "tags": []
   },
   "outputs": [
    {
     "data": {
      "text/plain": [
       "(100, 3)"
      ]
     },
     "execution_count": 17,
     "metadata": {},
     "output_type": "execute_result"
    }
   ],
   "source": [
    "res_dfs = []\n",
    "\n",
    "for lang in topic_sub_df[\"language\"].unique():\n",
    "    topic_ix = np.where(topic_sub_df[\"language\"] == lang)[0]\n",
    "    content_ix = np.where(content_df[\"language\"] == lang)[0]\n",
    "    \n",
    "    res_dfs.append(get_matches(V_topic[topic_ix], V_content[content_ix], \n",
    "                               topic_sub_df[\"id\"].values[topic_ix], content_df[\"id\"].values[content_ix],\n",
    "                    n_neighbors=20))\n",
    "res_df = pd.concat(res_dfs)\n",
    "res_df.shape"
   ]
  },
  {
   "cell_type": "code",
   "execution_count": 18,
   "id": "d8733731",
   "metadata": {
    "execution": {
     "iopub.execute_input": "2023-03-13T06:50:11.476032Z",
     "iopub.status.busy": "2023-03-13T06:50:11.475576Z",
     "iopub.status.idle": "2023-03-13T06:51:12.135508Z",
     "shell.execute_reply": "2023-03-13T06:51:12.134403Z"
    },
    "papermill": {
     "duration": 60.676005,
     "end_time": "2023-03-13T06:51:12.138527",
     "exception": false,
     "start_time": "2023-03-13T06:50:11.462522",
     "status": "completed"
    },
    "tags": []
   },
   "outputs": [],
   "source": [
    "def get_max_train(df, V):\n",
    "    max_train_scores = np.zeros(df.shape[0])\n",
    "    matches = np.zeros(df.shape[0])\n",
    "\n",
    "    for lang in df[\"language\"].unique():\n",
    "        topic_ix = np.where(train_df[\"language\"] == lang)[0]\n",
    "        ix = np.where(df[\"language\"] == lang)[0]\n",
    "\n",
    "        neighbors_model = NearestNeighbors(n_neighbors=1, metric='cosine', n_jobs=-1)\n",
    "        neighbors_model.fit(V_topic_train[topic_ix])\n",
    "        dists, idx = neighbors_model.kneighbors(V[ix])\n",
    "\n",
    "        max_train_scores[ix] = dists.ravel()\n",
    "        matches[ix] = topic_ix[idx.ravel()]  \n",
    "        \n",
    "    return max_train_scores, matches\n",
    "\n",
    "\n",
    "content_max_train_scores, _ = get_max_train(content_df, V_content)\n",
    "    \n",
    "content_df[\"max_train_score\"] = content_max_train_scores"
   ]
  },
  {
   "cell_type": "code",
   "execution_count": 19,
   "id": "586c79b1",
   "metadata": {
    "execution": {
     "iopub.execute_input": "2023-03-13T06:51:12.163639Z",
     "iopub.status.busy": "2023-03-13T06:51:12.163163Z",
     "iopub.status.idle": "2023-03-13T06:51:12.582037Z",
     "shell.execute_reply": "2023-03-13T06:51:12.579939Z"
    },
    "papermill": {
     "duration": 0.437183,
     "end_time": "2023-03-13T06:51:12.587465",
     "exception": false,
     "start_time": "2023-03-13T06:51:12.150282",
     "status": "completed"
    },
    "tags": []
   },
   "outputs": [],
   "source": [
    "topic_max_train_scores, topic_matches = get_max_train(topic_sub_df, V_topic)\n",
    "    \n",
    "topic_sub_df[\"max_train_score\"] = topic_max_train_scores\n",
    "topic_sub_df[\"matched_topic\"] = train_df[\"id\"].values[topic_matches.astype(int)]"
   ]
  },
  {
   "cell_type": "code",
   "execution_count": 20,
   "id": "4241b669",
   "metadata": {
    "execution": {
     "iopub.execute_input": "2023-03-13T06:51:12.651992Z",
     "iopub.status.busy": "2023-03-13T06:51:12.651191Z",
     "iopub.status.idle": "2023-03-13T06:51:12.944768Z",
     "shell.execute_reply": "2023-03-13T06:51:12.943807Z"
    },
    "papermill": {
     "duration": 0.329703,
     "end_time": "2023-03-13T06:51:12.947200",
     "exception": false,
     "start_time": "2023-03-13T06:51:12.617497",
     "status": "completed"
    },
    "tags": []
   },
   "outputs": [
    {
     "data": {
      "text/plain": [
       "522"
      ]
     },
     "execution_count": 20,
     "metadata": {},
     "output_type": "execute_result"
    }
   ],
   "source": [
    "del V_content, V_topic, V_topic_train\n",
    "del models\n",
    "\n",
    "gc.collect()"
   ]
  },
  {
   "cell_type": "code",
   "execution_count": 21,
   "id": "3898ff0c",
   "metadata": {
    "execution": {
     "iopub.execute_input": "2023-03-13T06:51:12.971893Z",
     "iopub.status.busy": "2023-03-13T06:51:12.971240Z",
     "iopub.status.idle": "2023-03-13T06:51:13.028737Z",
     "shell.execute_reply": "2023-03-13T06:51:13.027268Z"
    },
    "papermill": {
     "duration": 0.073203,
     "end_time": "2023-03-13T06:51:13.031694",
     "exception": false,
     "start_time": "2023-03-13T06:51:12.958491",
     "status": "completed"
    },
    "tags": []
   },
   "outputs": [
    {
     "data": {
      "text/plain": [
       "(23, 3)"
      ]
     },
     "execution_count": 21,
     "metadata": {},
     "output_type": "execute_result"
    }
   ],
   "source": [
    "second_degree_match_df = topic_sub_df.merge(corr_df, left_on=\"matched_topic\", right_on=\"topic_id\")[[\"id\", \"content_id\"]]\n",
    "second_degree_match_df[\"second_degree\"] = True\n",
    "second_degree_match_df.rename(columns={\"id\": \"topic_id\"}, inplace=True)\n",
    "second_degree_match_df.shape"
   ]
  },
  {
   "cell_type": "code",
   "execution_count": 22,
   "id": "0d45aadf",
   "metadata": {
    "execution": {
     "iopub.execute_input": "2023-03-13T06:51:13.058411Z",
     "iopub.status.busy": "2023-03-13T06:51:13.056976Z",
     "iopub.status.idle": "2023-03-13T06:51:45.636399Z",
     "shell.execute_reply": "2023-03-13T06:51:45.634977Z"
    },
    "papermill": {
     "duration": 32.609099,
     "end_time": "2023-03-13T06:51:45.652661",
     "exception": false,
     "start_time": "2023-03-13T06:51:13.043562",
     "status": "completed"
    },
    "tags": []
   },
   "outputs": [
    {
     "name": "stdout",
     "output_type": "stream",
     "text": [
      "bg\n",
      "34619 2420 6050\n",
      "----\n",
      "pt\n",
      "37485 3425 10435\n",
      "----\n",
      "en\n",
      "136622 28053 65939\n",
      "----\n"
     ]
    },
    {
     "data": {
      "text/plain": [
       "(100, 3)"
      ]
     },
     "execution_count": 22,
     "metadata": {},
     "output_type": "execute_result"
    }
   ],
   "source": [
    "from sklearn.feature_extraction.text import TfidfVectorizer\n",
    "from sparse_dot_topn import awesome_cossim_topn\n",
    "\n",
    "\n",
    "def get_matches(topic_df, content_df):\n",
    "    tfidf = TfidfVectorizer(analyzer=\"char\", ngram_range=(4, 4), min_df=2)\n",
    "\n",
    "    tfidf.fit(pd.concat([content_df[\"t\"], topic_df[\"t\"]]))\n",
    "    print(len(tfidf.vocabulary_), topic_df.shape[0], content_df.shape[0])\n",
    "    \n",
    "    topic_df = topic_df[topic_df[\"sub\"]].reset_index(drop=True)\n",
    "    \n",
    "    V_topic = tfidf.transform(topic_df[\"title\"] + \" \" + topic_df[\"t\"])\n",
    "    V_content = tfidf.transform(content_df[\"title\"] + \" \" + content_df[\"t\"])\n",
    "\n",
    "    d = awesome_cossim_topn(V_topic, V_content.T, 20, 0.01, use_threads=True, n_jobs=4)\n",
    "\n",
    "    non_zeros = d.nonzero()\n",
    "\n",
    "    name_indices = non_zeros[0]\n",
    "    gt_indices = non_zeros[1]\n",
    "\n",
    "    content_ids = content_df[\"id\"].values\n",
    "    topic_ids = topic_df[\"id\"].values\n",
    "\n",
    "    left_side = np.empty(gt_indices.size, dtype=object)\n",
    "    right_side = np.empty(gt_indices.size, dtype=object)\n",
    "    match_score = np.zeros(gt_indices.size)\n",
    "\n",
    "    for index in range(gt_indices.size):\n",
    "        left_side[index] = topic_ids[name_indices[index]]\n",
    "        right_side[index] = content_ids[gt_indices[index]]\n",
    "        match_score[index] = d.data[index]\n",
    "\n",
    "    res_df = pd.DataFrame({\"topic_id\": left_side,\n",
    "                           'content_id': right_side,\n",
    "                           'match_score': match_score\n",
    "                          })\n",
    "    return res_df\n",
    "\n",
    "\n",
    "res_dfs = []\n",
    "\n",
    "for lang in topic_sub_df[\"language\"].unique():\n",
    "    print(lang)\n",
    "    content_df_lang = content_df[(content_df[\"language\"] == lang)].reset_index(drop=True)\n",
    "    topic_df_lang = topic_df[(topic_df[\"language\"] == lang)].reset_index(drop=True)\n",
    "    \n",
    "    if content_df_lang.shape[0] > 0:\n",
    "        res_dfs.append(get_matches(topic_df_lang, content_df_lang))\n",
    "        \n",
    "    print(\"----\")\n",
    "    \n",
    "res_df2 = pd.concat(res_dfs)\n",
    "res_df2.shape"
   ]
  },
  {
   "cell_type": "code",
   "execution_count": 23,
   "id": "18c590a3",
   "metadata": {
    "execution": {
     "iopub.execute_input": "2023-03-13T06:51:45.679202Z",
     "iopub.status.busy": "2023-03-13T06:51:45.678760Z",
     "iopub.status.idle": "2023-03-13T06:51:46.922226Z",
     "shell.execute_reply": "2023-03-13T06:51:46.920805Z"
    },
    "papermill": {
     "duration": 1.260182,
     "end_time": "2023-03-13T06:51:46.925082",
     "exception": false,
     "start_time": "2023-03-13T06:51:45.664900",
     "status": "completed"
    },
    "tags": []
   },
   "outputs": [
    {
     "data": {
      "text/html": [
       "<div>\n",
       "<style scoped>\n",
       "    .dataframe tbody tr th:only-of-type {\n",
       "        vertical-align: middle;\n",
       "    }\n",
       "\n",
       "    .dataframe tbody tr th {\n",
       "        vertical-align: top;\n",
       "    }\n",
       "\n",
       "    .dataframe thead th {\n",
       "        text-align: right;\n",
       "    }\n",
       "</style>\n",
       "<table border=\"1\" class=\"dataframe\">\n",
       "  <thead>\n",
       "    <tr style=\"text-align: right;\">\n",
       "      <th></th>\n",
       "      <th>topic_id</th>\n",
       "      <th>content_id</th>\n",
       "      <th>dup_count</th>\n",
       "    </tr>\n",
       "  </thead>\n",
       "  <tbody>\n",
       "    <tr>\n",
       "      <th>0</th>\n",
       "      <td>t_00069b63a70a</td>\n",
       "      <td>c_01a0e6e59063</td>\n",
       "      <td>1</td>\n",
       "    </tr>\n",
       "    <tr>\n",
       "      <th>1</th>\n",
       "      <td>t_00069b63a70a</td>\n",
       "      <td>c_037b8be79422</td>\n",
       "      <td>1</td>\n",
       "    </tr>\n",
       "    <tr>\n",
       "      <th>2</th>\n",
       "      <td>t_00069b63a70a</td>\n",
       "      <td>c_03b5ed305bcc</td>\n",
       "      <td>1</td>\n",
       "    </tr>\n",
       "    <tr>\n",
       "      <th>3</th>\n",
       "      <td>t_00069b63a70a</td>\n",
       "      <td>c_04a65a739d47</td>\n",
       "      <td>1</td>\n",
       "    </tr>\n",
       "    <tr>\n",
       "      <th>4</th>\n",
       "      <td>t_00069b63a70a</td>\n",
       "      <td>c_05ff8bd1fd30</td>\n",
       "      <td>1</td>\n",
       "    </tr>\n",
       "    <tr>\n",
       "      <th>...</th>\n",
       "      <td>...</td>\n",
       "      <td>...</td>\n",
       "      <td>...</td>\n",
       "    </tr>\n",
       "    <tr>\n",
       "      <th>149</th>\n",
       "      <td>t_00069b63a70a</td>\n",
       "      <td>c_fbb631d460b8</td>\n",
       "      <td>2</td>\n",
       "    </tr>\n",
       "    <tr>\n",
       "      <th>150</th>\n",
       "      <td>t_00069b63a70a</td>\n",
       "      <td>c_fbf85d018b8a</td>\n",
       "      <td>1</td>\n",
       "    </tr>\n",
       "    <tr>\n",
       "      <th>151</th>\n",
       "      <td>t_00069b63a70a</td>\n",
       "      <td>c_fda21411f22d</td>\n",
       "      <td>1</td>\n",
       "    </tr>\n",
       "    <tr>\n",
       "      <th>152</th>\n",
       "      <td>t_00069b63a70a</td>\n",
       "      <td>c_fe0ef07ada86</td>\n",
       "      <td>1</td>\n",
       "    </tr>\n",
       "    <tr>\n",
       "      <th>153</th>\n",
       "      <td>t_00069b63a70a</td>\n",
       "      <td>c_fef1b5057523</td>\n",
       "      <td>1</td>\n",
       "    </tr>\n",
       "  </tbody>\n",
       "</table>\n",
       "<p>154 rows × 3 columns</p>\n",
       "</div>"
      ],
      "text/plain": [
       "           topic_id      content_id  dup_count\n",
       "0    t_00069b63a70a  c_01a0e6e59063          1\n",
       "1    t_00069b63a70a  c_037b8be79422          1\n",
       "2    t_00069b63a70a  c_03b5ed305bcc          1\n",
       "3    t_00069b63a70a  c_04a65a739d47          1\n",
       "4    t_00069b63a70a  c_05ff8bd1fd30          1\n",
       "..              ...             ...        ...\n",
       "149  t_00069b63a70a  c_fbb631d460b8          2\n",
       "150  t_00069b63a70a  c_fbf85d018b8a          1\n",
       "151  t_00069b63a70a  c_fda21411f22d          1\n",
       "152  t_00069b63a70a  c_fe0ef07ada86          1\n",
       "153  t_00069b63a70a  c_fef1b5057523          1\n",
       "\n",
       "[154 rows x 3 columns]"
      ]
     },
     "execution_count": 23,
     "metadata": {},
     "output_type": "execute_result"
    }
   ],
   "source": [
    "topic_df.columns = [f\"topic_{col}\" for col in topic_df.columns]\n",
    "content_df.columns = [f\"content_{col}\" for col in content_df.columns]\n",
    "\n",
    "corr_df[\"target\"] = 1\n",
    "\n",
    "topic_df[\"key\"] = topic_df[\"topic_title\"].fillna(\"\") + \" | \" + topic_df[\"topic_description\"].fillna(\"\")\n",
    "\n",
    "train_df = topic_df[~topic_df[\"topic_sub\"]]\n",
    "\n",
    "lookup = train_df.merge(corr_df, on=\"topic_id\").groupby([\"key\", \"content_id\"])[\"topic_channel\"].count().reset_index()\n",
    "lookup.rename(columns={\"topic_channel\": \"dup_count\"}, inplace=True)\n",
    "\n",
    "    \n",
    "dup_df = topic_df[topic_df[\"topic_sub\"]][[\"topic_id\", \"key\"]].merge(lookup, on=[\"key\"])[[\"topic_id\", 'content_id', \"dup_count\"]]\n",
    "dup_df"
   ]
  },
  {
   "cell_type": "code",
   "execution_count": 24,
   "id": "a3401f53",
   "metadata": {
    "execution": {
     "iopub.execute_input": "2023-03-13T06:51:46.952113Z",
     "iopub.status.busy": "2023-03-13T06:51:46.951131Z",
     "iopub.status.idle": "2023-03-13T06:51:46.976707Z",
     "shell.execute_reply": "2023-03-13T06:51:46.975412Z"
    },
    "papermill": {
     "duration": 0.041994,
     "end_time": "2023-03-13T06:51:46.979448",
     "exception": false,
     "start_time": "2023-03-13T06:51:46.937454",
     "status": "completed"
    },
    "tags": []
   },
   "outputs": [
    {
     "data": {
      "text/plain": [
       "(309, 6)"
      ]
     },
     "execution_count": 24,
     "metadata": {},
     "output_type": "execute_result"
    }
   ],
   "source": [
    "res_df = res_df.merge(res_df2, how=\"outer\", on=[\"topic_id\", \"content_id\"])\n",
    "res_df = res_df.merge(dup_df, how=\"outer\", on=[\"topic_id\", \"content_id\"])\n",
    "res_df = res_df.merge(second_degree_match_df, how=\"outer\", on=[\"topic_id\", \"content_id\"])\n",
    "\n",
    "res_df.shape"
   ]
  },
  {
   "cell_type": "code",
   "execution_count": 25,
   "id": "1294b5e0",
   "metadata": {
    "execution": {
     "iopub.execute_input": "2023-03-13T06:51:47.006321Z",
     "iopub.status.busy": "2023-03-13T06:51:47.005862Z",
     "iopub.status.idle": "2023-03-13T06:51:48.034455Z",
     "shell.execute_reply": "2023-03-13T06:51:48.032827Z"
    },
    "papermill": {
     "duration": 1.045595,
     "end_time": "2023-03-13T06:51:48.037354",
     "exception": false,
     "start_time": "2023-03-13T06:51:46.991759",
     "status": "completed"
    },
    "tags": []
   },
   "outputs": [
    {
     "data": {
      "text/plain": [
       "(309, 7)"
      ]
     },
     "execution_count": 25,
     "metadata": {},
     "output_type": "execute_result"
    }
   ],
   "source": [
    "topic_df[\"key\"] = topic_df[\"topic_title\"].fillna(\"\")\n",
    "\n",
    "train_df = topic_df[~topic_df[\"topic_sub\"]]\n",
    "\n",
    "\n",
    "lookup = train_df.merge(corr_df, on=\"topic_id\").groupby([\"key\", \"content_id\"])[\"topic_channel\"].count().reset_index()\n",
    "lookup.rename(columns={\"topic_channel\": \"tdup_count\"}, inplace=True)\n",
    "\n",
    "dup_df = topic_df[topic_df[\"topic_sub\"]].merge(lookup, on=[\"key\"])[[\"topic_id\", 'content_id', \"tdup_count\"]]\n",
    "\n",
    "res_df = res_df.merge(dup_df, how=\"outer\", on=[\"topic_id\", \"content_id\"])\n",
    "res_df.shape"
   ]
  },
  {
   "cell_type": "code",
   "execution_count": 26,
   "id": "60049a9b",
   "metadata": {
    "execution": {
     "iopub.execute_input": "2023-03-13T06:51:48.064593Z",
     "iopub.status.busy": "2023-03-13T06:51:48.064163Z",
     "iopub.status.idle": "2023-03-13T06:51:49.049923Z",
     "shell.execute_reply": "2023-03-13T06:51:49.048384Z"
    },
    "papermill": {
     "duration": 1.002837,
     "end_time": "2023-03-13T06:51:49.052696",
     "exception": false,
     "start_time": "2023-03-13T06:51:48.049859",
     "status": "completed"
    },
    "tags": []
   },
   "outputs": [
    {
     "data": {
      "text/plain": [
       "(517, 8)"
      ]
     },
     "execution_count": 26,
     "metadata": {},
     "output_type": "execute_result"
    }
   ],
   "source": [
    "topic_df[\"key\"] = topic_df[\"topic_parent\"].fillna(topic_df[\"topic_id\"])\n",
    "\n",
    "train_df = topic_df[~topic_df[\"topic_sub\"]]\n",
    "\n",
    "\n",
    "lookup = train_df.merge(corr_df, on=\"topic_id\").groupby([\"key\", \"content_id\"])[\"topic_channel\"].count().reset_index()\n",
    "lookup.rename(columns={\"topic_channel\": \"pdup_count\"}, inplace=True)\n",
    "\n",
    "dup_df = topic_df[topic_df[\"topic_sub\"]].merge(lookup, on=[\"key\"])[[\"topic_id\", 'content_id', \"pdup_count\"]]\n",
    "\n",
    "res_df = res_df.merge(dup_df, how=\"outer\", on=[\"topic_id\", \"content_id\"])\n",
    "res_df.shape"
   ]
  },
  {
   "cell_type": "code",
   "execution_count": 27,
   "id": "b5618c0b",
   "metadata": {
    "execution": {
     "iopub.execute_input": "2023-03-13T06:51:49.079842Z",
     "iopub.status.busy": "2023-03-13T06:51:49.079355Z",
     "iopub.status.idle": "2023-03-13T06:51:49.172288Z",
     "shell.execute_reply": "2023-03-13T06:51:49.170921Z"
    },
    "papermill": {
     "duration": 0.110176,
     "end_time": "2023-03-13T06:51:49.175579",
     "exception": false,
     "start_time": "2023-03-13T06:51:49.065403",
     "status": "completed"
    },
    "tags": []
   },
   "outputs": [
    {
     "data": {
      "text/plain": [
       "(517, 36)"
      ]
     },
     "execution_count": 27,
     "metadata": {},
     "output_type": "execute_result"
    }
   ],
   "source": [
    "res_df = res_df.merge(topic_df[topic_df[\"topic_sub\"]], on=\"topic_id\", how=\"left\")\n",
    "res_df = res_df.merge(content_df, on=\"content_id\", how=\"left\")\n",
    "\n",
    "res_df.shape"
   ]
  },
  {
   "cell_type": "code",
   "execution_count": 28,
   "id": "927d7ec2",
   "metadata": {
    "execution": {
     "iopub.execute_input": "2023-03-13T06:51:49.203036Z",
     "iopub.status.busy": "2023-03-13T06:51:49.202594Z",
     "iopub.status.idle": "2023-03-13T06:51:49.223582Z",
     "shell.execute_reply": "2023-03-13T06:51:49.222164Z"
    },
    "papermill": {
     "duration": 0.038286,
     "end_time": "2023-03-13T06:51:49.226456",
     "exception": false,
     "start_time": "2023-03-13T06:51:49.188170",
     "status": "completed"
    },
    "tags": []
   },
   "outputs": [],
   "source": [
    "res_df[\"topic_language\"] = res_df[\"topic_language\"].astype(\"category\")\n",
    "res_df[\"topic_category\"] = res_df[\"topic_category\"].astype(\"category\")\n",
    "res_df[\"content_kind\"] = res_df[\"content_kind\"].astype(\"category\")\n",
    "res_df[\"topic_channel\"] = res_df[\"topic_channel\"].astype(\"category\")\n",
    "\n",
    "res_df[\"len_topic_title\"] = res_df[\"topic_title\"].fillna(\"\").apply(len)\n",
    "res_df[\"len_topic_description\"] = res_df[\"topic_description\"].fillna(\"\").apply(len)\n",
    "res_df[\"len_content_title\"] = res_df[\"content_title\"].fillna(\"\").apply(len)\n",
    "res_df[\"len_content_description\"] = res_df[\"content_description\"].fillna(\"\").apply(len)\n",
    "res_df[\"len_content_text\"] = res_df[\"content_text\"].fillna(\"\").apply(len)"
   ]
  },
  {
   "cell_type": "code",
   "execution_count": 29,
   "id": "4b5a4810",
   "metadata": {
    "execution": {
     "iopub.execute_input": "2023-03-13T06:51:49.254676Z",
     "iopub.status.busy": "2023-03-13T06:51:49.253325Z",
     "iopub.status.idle": "2023-03-13T06:51:49.291940Z",
     "shell.execute_reply": "2023-03-13T06:51:49.290611Z"
    },
    "papermill": {
     "duration": 0.055917,
     "end_time": "2023-03-13T06:51:49.295036",
     "exception": false,
     "start_time": "2023-03-13T06:51:49.239119",
     "status": "completed"
    },
    "tags": []
   },
   "outputs": [],
   "source": [
    "res_df[\"match_score_max\"] = res_df.groupby(\"topic_id\")[\"match_score\"].transform(\"max\")\n",
    "res_df[\"match_score_min\"] = res_df.groupby(\"topic_id\")[\"match_score\"].transform(\"min\")\n",
    "\n",
    "res_df[\"vec_dist_max\"] = res_df.groupby(\"topic_id\")[\"vec_dist\"].transform(\"max\")\n",
    "res_df[\"vec_dist_min\"] = res_df.groupby(\"topic_id\")[\"vec_dist\"].transform(\"min\")\n",
    "\n",
    "res_df[\"dup_count\"] = res_df[\"dup_count\"].fillna(0)\n",
    "res_df[\"total_count\"] = res_df.groupby(\"topic_id\")[\"content_id\"].transform(\"count\")\n",
    "res_df[\"dup_count_mean\"] = res_df.groupby(\"topic_id\")[\"dup_count\"].transform(\"mean\")\n",
    "\n",
    "res_df[\"tdup_count\"] = res_df[\"tdup_count\"].fillna(0)\n",
    "res_df[\"tdup_count_mean\"] = res_df.groupby(\"topic_id\")[\"tdup_count\"].transform(\"mean\")\n",
    "\n",
    "res_df[\"pdup_count\"] = res_df[\"pdup_count\"].fillna(0)\n",
    "res_df[\"pdup_count_mean\"] = res_df.groupby(\"topic_id\")[\"pdup_count\"].transform(\"mean\")\n",
    "\n",
    "res_df[\"same_chapter\"] = res_df[\"topic_chapter\"] == res_df[\"content_chapter\"]\n",
    "res_df[\"starts_same\"] = res_df[\"topic_title\"].apply(lambda x: x.split(\" \", 1)[0]) == res_df[\"content_title\"].apply(lambda x: str(x).split(\" \", 1)[0])\n",
    "\n",
    "res_df[\"content_is_train\"] = res_df[\"content_is_train\"].astype(bool)\n",
    "\n",
    "res_df.loc[~res_df[\"content_is_train\"], \"content_max_train_score\"] = None\n",
    "res_df[\"second_degree\"].fillna(False, inplace=True)\n",
    "res_df[\"topic_max_train_score\"] = res_df[\"topic_id\"].map(topic_sub_df.set_index(\"id\")[\"max_train_score\"].to_dict())"
   ]
  },
  {
   "cell_type": "code",
   "execution_count": 30,
   "id": "041451c0",
   "metadata": {
    "execution": {
     "iopub.execute_input": "2023-03-13T06:51:49.323465Z",
     "iopub.status.busy": "2023-03-13T06:51:49.322746Z",
     "iopub.status.idle": "2023-03-13T06:51:50.896406Z",
     "shell.execute_reply": "2023-03-13T06:51:50.895162Z"
    },
    "papermill": {
     "duration": 1.591895,
     "end_time": "2023-03-13T06:51:50.899945",
     "exception": false,
     "start_time": "2023-03-13T06:51:49.308050",
     "status": "completed"
    },
    "tags": []
   },
   "outputs": [
    {
     "data": {
      "text/html": [
       "<style type='text/css'>\n",
       ".datatable table.frame { margin-bottom: 0; }\n",
       ".datatable table.frame thead { border-bottom: none; }\n",
       ".datatable table.frame tr.coltypes td {  color: #FFFFFF;  line-height: 6px;  padding: 0 0.5em;}\n",
       ".datatable .bool    { background: #DDDD99; }\n",
       ".datatable .object  { background: #565656; }\n",
       ".datatable .int     { background: #5D9E5D; }\n",
       ".datatable .float   { background: #4040CC; }\n",
       ".datatable .str     { background: #CC4040; }\n",
       ".datatable .time    { background: #40CC40; }\n",
       ".datatable .row_index {  background: var(--jp-border-color3);  border-right: 1px solid var(--jp-border-color0);  color: var(--jp-ui-font-color3);  font-size: 9px;}\n",
       ".datatable .frame tbody td { text-align: left; }\n",
       ".datatable .frame tr.coltypes .row_index {  background: var(--jp-border-color0);}\n",
       ".datatable th:nth-child(2) { padding-left: 12px; }\n",
       ".datatable .hellipsis {  color: var(--jp-cell-editor-border-color);}\n",
       ".datatable .vellipsis {  background: var(--jp-layout-color0);  color: var(--jp-cell-editor-border-color);}\n",
       ".datatable .na {  color: var(--jp-cell-editor-border-color);  font-size: 80%;}\n",
       ".datatable .sp {  opacity: 0.25;}\n",
       ".datatable .footer { font-size: 9px; }\n",
       ".datatable .frame_dimensions {  background: var(--jp-border-color3);  border-top: 1px solid var(--jp-border-color0);  color: var(--jp-ui-font-color3);  display: inline-block;  opacity: 0.6;  padding: 1px 10px 1px 5px;}\n",
       "</style>\n"
      ],
      "text/plain": [
       "<IPython.core.display.HTML object>"
      ]
     },
     "metadata": {},
     "output_type": "display_data"
    }
   ],
   "source": [
    "import lightgbm as lgb\n",
    "\n",
    "N_FOLDS = 4\n",
    "\n",
    "res_df[\"pred\"] = 0    \n",
    "    \n",
    "features = [\"match_score\", \"match_score_max\", \"match_score_min\",\n",
    "            \"vec_dist\", \"vec_dist_max\", \"vec_dist_min\", \"len_content_text\",\n",
    "            \"len_topic_title\", \"len_topic_description\", \"len_content_title\", \"len_content_description\",\n",
    "             \"dup_count\", \"total_count\", \"dup_count_mean\",\n",
    "            \"tdup_count\", \"tdup_count_mean\", \"pdup_count\", \"pdup_count_mean\",\n",
    "            \"topic_language\", \"topic_category\", \"content_kind\", \"topic_level\",\n",
    "            \"same_chapter\", \"starts_same\", \"content_is_train\", \"topic_channel\",\n",
    "            \"content_max_train_score\", \"topic_max_train_score\", \"second_degree\"\n",
    "           ]\n",
    "\n",
    "for f in range(N_FOLDS):\n",
    "    lgb_model = lgb.Booster(model_file=f\"/kaggle/input/lecr-eff-718/lgb_{f}.txt\")\n",
    "    res_df[\"pred\"] += lgb_model.predict(res_df[features]) / N_FOLDS"
   ]
  },
  {
   "cell_type": "code",
   "execution_count": 31,
   "id": "eee05fc1",
   "metadata": {
    "execution": {
     "iopub.execute_input": "2023-03-13T06:51:50.930094Z",
     "iopub.status.busy": "2023-03-13T06:51:50.929631Z",
     "iopub.status.idle": "2023-03-13T06:51:50.961982Z",
     "shell.execute_reply": "2023-03-13T06:51:50.960508Z"
    },
    "papermill": {
     "duration": 0.050408,
     "end_time": "2023-03-13T06:51:50.964913",
     "exception": false,
     "start_time": "2023-03-13T06:51:50.914505",
     "status": "completed"
    },
    "tags": []
   },
   "outputs": [],
   "source": [
    "res_df[\"rank\"] = res_df.groupby(\"topic_id\")[\"pred\"].rank(method=\"first\", ascending=False)\n",
    "\n",
    "res_df[\"gap\"] = res_df.groupby(\"topic_id\")[\"pred\"].transform(\"max\") - res_df[\"pred\"]\n",
    "\n",
    "res_df[\"content_dist\"] = res_df[\"gap\"] + res_df.groupby(\"content_id\")[\"pred\"].transform(\"max\") - res_df[\"pred\"]\n",
    "\n",
    "res_df[\"content_rank\"] = res_df.groupby(\"content_id\")[\"content_dist\"].rank(method=\"first\")\n",
    "\n",
    "pred_df = res_df[(res_df[\"rank\"] == 1) | \n",
    "                 ((res_df[\"gap\"] < 0.25) & res_df[\"content_is_train\"] & (res_df[\"pred\"] > 0.05)) | \n",
    "                 (~res_df[\"content_is_train\"] & (res_df[\"content_rank\"] == 1) & (res_df[\"content_dist\"] < 0.65)) | \n",
    "                 (~res_df[\"content_is_train\"] & (res_df[\"gap\"] < 0.05))]\n",
    "\n",
    "pred_df = pred_df.groupby(\"topic_id\")[\"content_id\"].apply(lambda x: \" \".join(list(x)))\n",
    "pred_df = pred_df.reset_index().rename(columns={\"content_id\": 'content_ids'})"
   ]
  },
  {
   "cell_type": "code",
   "execution_count": 32,
   "id": "14390df8",
   "metadata": {
    "execution": {
     "iopub.execute_input": "2023-03-13T06:51:50.993384Z",
     "iopub.status.busy": "2023-03-13T06:51:50.992130Z",
     "iopub.status.idle": "2023-03-13T06:51:51.010075Z",
     "shell.execute_reply": "2023-03-13T06:51:51.008417Z"
    },
    "papermill": {
     "duration": 0.035213,
     "end_time": "2023-03-13T06:51:51.013014",
     "exception": false,
     "start_time": "2023-03-13T06:51:50.977801",
     "status": "completed"
    },
    "tags": []
   },
   "outputs": [
    {
     "data": {
      "text/html": [
       "<div>\n",
       "<style scoped>\n",
       "    .dataframe tbody tr th:only-of-type {\n",
       "        vertical-align: middle;\n",
       "    }\n",
       "\n",
       "    .dataframe tbody tr th {\n",
       "        vertical-align: top;\n",
       "    }\n",
       "\n",
       "    .dataframe thead th {\n",
       "        text-align: right;\n",
       "    }\n",
       "</style>\n",
       "<table border=\"1\" class=\"dataframe\">\n",
       "  <thead>\n",
       "    <tr style=\"text-align: right;\">\n",
       "      <th></th>\n",
       "      <th>topic_id</th>\n",
       "      <th>content_ids</th>\n",
       "    </tr>\n",
       "  </thead>\n",
       "  <tbody>\n",
       "    <tr>\n",
       "      <th>0</th>\n",
       "      <td>t_00004da3a1b2</td>\n",
       "      <td>c_1108dd0c7a5d c_376c5a8eb028 c_5bc0e1e2cba0 c...</td>\n",
       "    </tr>\n",
       "    <tr>\n",
       "      <th>1</th>\n",
       "      <td>t_00068291e9a4</td>\n",
       "      <td>c_639ea2ef9c95 c_89ce9367be10 c_ac1672cdcd2c c...</td>\n",
       "    </tr>\n",
       "    <tr>\n",
       "      <th>2</th>\n",
       "      <td>t_00069b63a70a</td>\n",
       "      <td>c_11a1dc0bfb99</td>\n",
       "    </tr>\n",
       "    <tr>\n",
       "      <th>3</th>\n",
       "      <td>t_0006d41a73a8</td>\n",
       "      <td>c_b972646631cb c_1c57a1316568 c_d7a0d7eaf799 c...</td>\n",
       "    </tr>\n",
       "    <tr>\n",
       "      <th>4</th>\n",
       "      <td>t_4054df11a74e</td>\n",
       "      <td>c_3695c5dc1df6</td>\n",
       "    </tr>\n",
       "  </tbody>\n",
       "</table>\n",
       "</div>"
      ],
      "text/plain": [
       "         topic_id                                        content_ids\n",
       "0  t_00004da3a1b2  c_1108dd0c7a5d c_376c5a8eb028 c_5bc0e1e2cba0 c...\n",
       "1  t_00068291e9a4  c_639ea2ef9c95 c_89ce9367be10 c_ac1672cdcd2c c...\n",
       "2  t_00069b63a70a                                     c_11a1dc0bfb99\n",
       "3  t_0006d41a73a8  c_b972646631cb c_1c57a1316568 c_d7a0d7eaf799 c...\n",
       "4  t_4054df11a74e                                     c_3695c5dc1df6"
      ]
     },
     "execution_count": 32,
     "metadata": {},
     "output_type": "execute_result"
    }
   ],
   "source": [
    "res_df = topic_df[topic_df[\"topic_sub\"]][[\"topic_id\"]].merge(pred_df, on=\"topic_id\", how=\"left\")\n",
    "res_df[\"content_ids\"].fillna(\"\", inplace=True)\n",
    "res_df"
   ]
  },
  {
   "cell_type": "code",
   "execution_count": 33,
   "id": "53472325",
   "metadata": {
    "execution": {
     "iopub.execute_input": "2023-03-13T06:51:51.042786Z",
     "iopub.status.busy": "2023-03-13T06:51:51.041429Z",
     "iopub.status.idle": "2023-03-13T06:51:51.054398Z",
     "shell.execute_reply": "2023-03-13T06:51:51.052526Z"
    },
    "papermill": {
     "duration": 0.03089,
     "end_time": "2023-03-13T06:51:51.057657",
     "exception": false,
     "start_time": "2023-03-13T06:51:51.026767",
     "status": "completed"
    },
    "tags": []
   },
   "outputs": [],
   "source": [
    "res_df.to_csv(\"submission.csv\", index=False)"
   ]
  },
  {
   "cell_type": "code",
   "execution_count": null,
   "id": "fb6fa210",
   "metadata": {
    "papermill": {
     "duration": 0.013628,
     "end_time": "2023-03-13T06:51:51.085312",
     "exception": false,
     "start_time": "2023-03-13T06:51:51.071684",
     "status": "completed"
    },
    "tags": []
   },
   "outputs": [],
   "source": []
  }
 ],
 "metadata": {
  "kernelspec": {
   "display_name": "Python 3",
   "language": "python",
   "name": "python3"
  },
  "language_info": {
   "codemirror_mode": {
    "name": "ipython",
    "version": 3
   },
   "file_extension": ".py",
   "mimetype": "text/x-python",
   "name": "python",
   "nbconvert_exporter": "python",
   "pygments_lexer": "ipython3",
   "version": "3.7.12"
  },
  "papermill": {
   "default_parameters": {},
   "duration": 201.963953,
   "end_time": "2023-03-13T06:51:54.290045",
   "environment_variables": {},
   "exception": null,
   "input_path": "__notebook__.ipynb",
   "output_path": "__notebook__.ipynb",
   "parameters": {},
   "start_time": "2023-03-13T06:48:32.326092",
   "version": "2.4.0"
  }
 },
 "nbformat": 4,
 "nbformat_minor": 5
}
