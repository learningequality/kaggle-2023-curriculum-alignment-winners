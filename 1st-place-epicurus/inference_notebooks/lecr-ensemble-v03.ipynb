{
 "cells": [
  {
   "cell_type": "code",
   "execution_count": 1,
   "id": "076ccaba",
   "metadata": {
    "_cell_guid": "b1076dfc-b9ad-4769-8c92-a6c4dae69d19",
    "_uuid": "8f2839f25d086af736a60e9eeb907d3b93b6e0e5",
    "execution": {
     "iopub.execute_input": "2023-03-13T19:34:09.421775Z",
     "iopub.status.busy": "2023-03-13T19:34:09.420906Z",
     "iopub.status.idle": "2023-03-13T19:34:39.806403Z",
     "shell.execute_reply": "2023-03-13T19:34:39.804956Z"
    },
    "papermill": {
     "duration": 30.398363,
     "end_time": "2023-03-13T19:34:39.809606",
     "exception": false,
     "start_time": "2023-03-13T19:34:09.411243",
     "status": "completed"
    },
    "tags": []
   },
   "outputs": [
    {
     "name": "stdout",
     "output_type": "stream",
     "text": [
      "Processing /kaggle/input/sparse-dot-topn-033/sparse_dot_topn-0.3.3-cp37-cp37m-manylinux_2_17_x86_64.manylinux2014_x86_64.whl\r\n",
      "Requirement already satisfied: numpy>=1.14.5 in /opt/conda/lib/python3.7/site-packages (from sparse-dot-topn==0.3.3) (1.21.6)\r\n",
      "Requirement already satisfied: scipy>=1.2.3 in /opt/conda/lib/python3.7/site-packages (from sparse-dot-topn==0.3.3) (1.7.3)\r\n",
      "Installing collected packages: sparse-dot-topn\r\n",
      "Successfully installed sparse-dot-topn-0.3.3\r\n",
      "\u001b[33mWARNING: Running pip as the 'root' user can result in broken permissions and conflicting behaviour with the system package manager. It is recommended to use a virtual environment instead: https://pip.pypa.io/warnings/venv\u001b[0m\u001b[33m\r\n",
      "\u001b[0m\u001b[33mWARNING: There was an error checking the latest version of pip.\u001b[0m\u001b[33m\r\n",
      "\u001b[0m"
     ]
    }
   ],
   "source": [
    "!pip install /kaggle/input/sparse-dot-topn-033/sparse_dot_topn-0.3.3-cp37-cp37m-manylinux_2_17_x86_64.manylinux2014_x86_64.whl"
   ]
  },
  {
   "cell_type": "code",
   "execution_count": 2,
   "id": "1665319f",
   "metadata": {
    "execution": {
     "iopub.execute_input": "2023-03-13T19:34:39.826251Z",
     "iopub.status.busy": "2023-03-13T19:34:39.825168Z",
     "iopub.status.idle": "2023-03-13T19:34:59.687209Z",
     "shell.execute_reply": "2023-03-13T19:34:59.686081Z"
    },
    "papermill": {
     "duration": 19.873519,
     "end_time": "2023-03-13T19:34:59.690564",
     "exception": false,
     "start_time": "2023-03-13T19:34:39.817045",
     "status": "completed"
    },
    "tags": []
   },
   "outputs": [],
   "source": [
    "import numpy as np\n",
    "import pandas as pd\n",
    "from sklearn.feature_extraction.text import TfidfVectorizer\n",
    "from sparse_dot_topn import awesome_cossim_topn\n",
    "from tqdm import tqdm\n",
    "\n",
    "MAX_LEN = 64\n",
    "\n",
    "\n",
    "content_df = pd.read_csv(\"/kaggle/input/learning-equality-curriculum-recommendations/content.csv\")\n",
    "topic_df = pd.read_csv(\"/kaggle/input/learning-equality-curriculum-recommendations/topics.csv\")"
   ]
  },
  {
   "cell_type": "code",
   "execution_count": 3,
   "id": "52538884",
   "metadata": {
    "execution": {
     "iopub.execute_input": "2023-03-13T19:34:59.706491Z",
     "iopub.status.busy": "2023-03-13T19:34:59.706145Z",
     "iopub.status.idle": "2023-03-13T19:34:59.868327Z",
     "shell.execute_reply": "2023-03-13T19:34:59.867216Z"
    },
    "papermill": {
     "duration": 0.172381,
     "end_time": "2023-03-13T19:34:59.870597",
     "exception": false,
     "start_time": "2023-03-13T19:34:59.698216",
     "status": "completed"
    },
    "tags": []
   },
   "outputs": [
    {
     "data": {
      "text/plain": [
       "1.0"
      ]
     },
     "execution_count": 3,
     "metadata": {},
     "output_type": "execute_result"
    }
   ],
   "source": [
    "train_contents = np.load(\"/kaggle/input/lecr-precomputed/train_content_ids.npy\", allow_pickle=True)\n",
    "content_df[\"is_train\"] = content_df[\"id\"].isin(set(train_contents))\n",
    "content_df[\"is_train\"].mean()"
   ]
  },
  {
   "cell_type": "code",
   "execution_count": 4,
   "id": "a09a58a3",
   "metadata": {
    "execution": {
     "iopub.execute_input": "2023-03-13T19:34:59.887408Z",
     "iopub.status.busy": "2023-03-13T19:34:59.885885Z",
     "iopub.status.idle": "2023-03-13T19:35:00.028333Z",
     "shell.execute_reply": "2023-03-13T19:35:00.027289Z"
    },
    "papermill": {
     "duration": 0.153915,
     "end_time": "2023-03-13T19:35:00.031719",
     "exception": false,
     "start_time": "2023-03-13T19:34:59.877804",
     "status": "completed"
    },
    "tags": []
   },
   "outputs": [],
   "source": [
    "content_df.loc[content_df[\"title\"] == content_df[\"description\"], \"description\"] = None\n",
    "content_df[\"description\"].fillna(content_df[\"text\"].fillna(\"\").apply(lambda x: x[:256]), inplace=True)"
   ]
  },
  {
   "cell_type": "code",
   "execution_count": 5,
   "id": "5a905015",
   "metadata": {
    "execution": {
     "iopub.execute_input": "2023-03-13T19:35:00.047610Z",
     "iopub.status.busy": "2023-03-13T19:35:00.046976Z",
     "iopub.status.idle": "2023-03-13T19:35:09.175899Z",
     "shell.execute_reply": "2023-03-13T19:35:09.174664Z"
    },
    "papermill": {
     "duration": 9.139778,
     "end_time": "2023-03-13T19:35:09.178564",
     "exception": false,
     "start_time": "2023-03-13T19:35:00.038786",
     "status": "completed"
    },
    "tags": []
   },
   "outputs": [],
   "source": [
    "import sys, os\n",
    "from tqdm import tqdm\n",
    "import numpy as np\n",
    "import pandas as pd\n",
    "from sklearn.preprocessing import LabelEncoder\n",
    "from sklearn.model_selection import train_test_split\n",
    "from torch.utils.data import Dataset, DataLoader\n",
    "import torch\n",
    "import torch.nn.functional as F\n",
    "import torch.nn as nn\n",
    "import math\n",
    "from transformers import AutoConfig, AutoTokenizer, AutoModelForMaskedLM, AutoModel\n",
    "\n",
    "\n",
    "class VecModel(nn.Module):\n",
    "    def __init__(self, model_name, size, has_top=True):\n",
    "        super(VecModel, self).__init__()\n",
    "        conf = AutoConfig.from_pretrained(model_name)\n",
    "        self.backbone = AutoModel.from_config(conf)\n",
    "        \n",
    "        self.has_top = has_top\n",
    "        \n",
    "        if self.has_top:\n",
    "            self.bn = nn.BatchNorm1d(size)\n",
    "            self.top = nn.Linear(size, size)\n",
    "\n",
    "    def forward(self, ids, mask):\n",
    "        out = self.backbone(ids, mask)[0]\n",
    "        out = (out[:, 1:MAX_LEN//2, :]*mask[:, 1:MAX_LEN//2, None]).mean(axis=1)\n",
    "        \n",
    "        if self.has_top:\n",
    "            out = self.top(self.bn(out))\n",
    "        \n",
    "        return F.normalize(out)\n",
    "\n",
    "    def save(self, path):\n",
    "        torch.save(self.state_dict(), path)\n",
    "\n",
    "    def load(self, path):\n",
    "        self.load_state_dict(torch.load(path, map_location='cpu'))"
   ]
  },
  {
   "cell_type": "code",
   "execution_count": 6,
   "id": "0cd1c248",
   "metadata": {
    "execution": {
     "iopub.execute_input": "2023-03-13T19:35:09.196031Z",
     "iopub.status.busy": "2023-03-13T19:35:09.193960Z",
     "iopub.status.idle": "2023-03-13T19:35:09.530868Z",
     "shell.execute_reply": "2023-03-13T19:35:09.529626Z"
    },
    "papermill": {
     "duration": 0.34818,
     "end_time": "2023-03-13T19:35:09.533948",
     "exception": false,
     "start_time": "2023-03-13T19:35:09.185768",
     "status": "completed"
    },
    "tags": []
   },
   "outputs": [
    {
     "name": "stdout",
     "output_type": "stream",
     "text": [
      "(61517, 9)\n",
      "(61517, 10)\n",
      "(61517, 12)\n",
      "(61517, 14)\n"
     ]
    },
    {
     "data": {
      "text/plain": [
       "(61517, 15)"
      ]
     },
     "execution_count": 6,
     "metadata": {},
     "output_type": "execute_result"
    }
   ],
   "source": [
    "sub_df = pd.read_csv(\"/kaggle/input/learning-equality-curriculum-recommendations/sample_submission.csv\")\n",
    "\n",
    "topic_df[\"title\"] = topic_df[\"title\"].fillna(\"\")\n",
    "content_df[\"title\"].fillna(\"\", inplace=True)\n",
    "\n",
    "\n",
    "title_map = topic_df.set_index(\"id\")[\"title\"].to_dict()\n",
    "parent_map = topic_df.set_index(\"id\")[\"parent\"].to_dict()\n",
    "\n",
    "topic_df = topic_df[topic_df[\"has_content\"]].reset_index(drop=True)\n",
    "print(topic_df.shape)\n",
    "\n",
    "topic_df[\"parent_title\"] = topic_df[\"parent\"].apply(lambda x: title_map.get(x, \"\"))\n",
    "print(topic_df.shape)\n",
    "\n",
    "topic_df[\"grandpa\"] = topic_df[\"parent\"].apply(lambda x: parent_map.get(x))\n",
    "topic_df[\"grandpa_title\"] = topic_df[\"grandpa\"].apply(lambda x: title_map.get(x, \"\"))\n",
    "print(topic_df.shape)\n",
    "\n",
    "topic_df[\"ggrandpa\"] = topic_df[\"grandpa\"].apply(lambda x: parent_map.get(x))\n",
    "topic_df[\"ggrandpa_title\"] = topic_df[\"ggrandpa\"].apply(lambda x: title_map.get(x, \"\"))\n",
    "print(topic_df.shape)\n",
    "\n",
    "topic_df[\"parent\"] = topic_df[\"parent\"].fillna(topic_df[\"id\"])\n",
    "\n",
    "topic_df[\"sub\"] = topic_df[\"id\"].isin(sub_df[\"topic_id\"])\n",
    "topic_df.shape"
   ]
  },
  {
   "cell_type": "code",
   "execution_count": 7,
   "id": "88c43fba",
   "metadata": {
    "execution": {
     "iopub.execute_input": "2023-03-13T19:35:09.551263Z",
     "iopub.status.busy": "2023-03-13T19:35:09.549511Z",
     "iopub.status.idle": "2023-03-13T19:35:10.302139Z",
     "shell.execute_reply": "2023-03-13T19:35:10.300919Z"
    },
    "papermill": {
     "duration": 0.764002,
     "end_time": "2023-03-13T19:35:10.305266",
     "exception": false,
     "start_time": "2023-03-13T19:35:09.541264",
     "status": "completed"
    },
    "tags": []
   },
   "outputs": [],
   "source": [
    "def extract_number(x, is_subtopic=False):\n",
    "    chapter, rest = x.split(\":\", 1)\n",
    "    \n",
    "    if is_subtopic:\n",
    "        chapter = chapter.split(\".\", 1)[0]\n",
    "        x = f\"{chapter}:{rest}\"\n",
    "    chapter = int(chapter)\n",
    "\n",
    "    return chapter, x\n",
    "\n",
    "\n",
    "def extract_chapters(df, is_subtopic):\n",
    "    titles = df[\"title\"].fillna(\"\").values\n",
    "    \n",
    "    chapters = np.zeros(len(titles))\n",
    "    new_titles = np.array(titles)\n",
    "    \n",
    "    for i, title in enumerate(titles):\n",
    "        try:\n",
    "            chapters[i], new_titles[i] = extract_number(title, is_subtopic)\n",
    "        except:\n",
    "            pass\n",
    "        \n",
    "    df[\"chapter\"], df[\"title\"] = chapters, new_titles\n",
    "    df[\"chapter\"] = df[\"chapter\"].astype(int)\n",
    "    \n",
    "    df.loc[df[\"chapter\"] == 0, \"chapter\"] = None\n",
    "    return df\n",
    "    \n",
    "content_df[\"t\"] = content_df[\"title\"].fillna(\"\") + \" | \" + content_df[\"kind\"].fillna(\"\") + \" | \" + content_df[\"description\"].fillna(\"\")\n",
    "\n",
    "topic_df = extract_chapters(topic_df, False)\n",
    "content_df = extract_chapters(content_df, True)"
   ]
  },
  {
   "cell_type": "code",
   "execution_count": 8,
   "id": "f51c6714",
   "metadata": {
    "execution": {
     "iopub.execute_input": "2023-03-13T19:35:10.328935Z",
     "iopub.status.busy": "2023-03-13T19:35:10.328315Z",
     "iopub.status.idle": "2023-03-13T19:35:10.443842Z",
     "shell.execute_reply": "2023-03-13T19:35:10.442813Z"
    },
    "papermill": {
     "duration": 0.13034,
     "end_time": "2023-03-13T19:35:10.446766",
     "exception": false,
     "start_time": "2023-03-13T19:35:10.316426",
     "status": "completed"
    },
    "tags": []
   },
   "outputs": [],
   "source": [
    "topic_df[\"t\"] = topic_df[\"title\"] + \" @ \" + topic_df[\"parent_title\"] + \" @ \" + topic_df[\"grandpa_title\"] + \" @ \" + topic_df[\"ggrandpa_title\"] + \" | \" + topic_df[\"description\"].fillna(\"\")"
   ]
  },
  {
   "cell_type": "code",
   "execution_count": 9,
   "id": "c6c8b930",
   "metadata": {
    "execution": {
     "iopub.execute_input": "2023-03-13T19:35:10.471751Z",
     "iopub.status.busy": "2023-03-13T19:35:10.470655Z",
     "iopub.status.idle": "2023-03-13T19:35:11.076521Z",
     "shell.execute_reply": "2023-03-13T19:35:11.075512Z"
    },
    "papermill": {
     "duration": 0.620543,
     "end_time": "2023-03-13T19:35:11.078838",
     "exception": false,
     "start_time": "2023-03-13T19:35:10.458295",
     "status": "completed"
    },
    "tags": []
   },
   "outputs": [
    {
     "data": {
      "text/html": [
       "<div>\n",
       "<style scoped>\n",
       "    .dataframe tbody tr th:only-of-type {\n",
       "        vertical-align: middle;\n",
       "    }\n",
       "\n",
       "    .dataframe tbody tr th {\n",
       "        vertical-align: top;\n",
       "    }\n",
       "\n",
       "    .dataframe thead th {\n",
       "        text-align: right;\n",
       "    }\n",
       "</style>\n",
       "<table border=\"1\" class=\"dataframe\">\n",
       "  <thead>\n",
       "    <tr style=\"text-align: right;\">\n",
       "      <th></th>\n",
       "      <th>topic_id</th>\n",
       "      <th>content_id</th>\n",
       "    </tr>\n",
       "  </thead>\n",
       "  <tbody>\n",
       "    <tr>\n",
       "      <th>0</th>\n",
       "      <td>t_00004da3a1b2</td>\n",
       "      <td>c_1108dd0c7a5d</td>\n",
       "    </tr>\n",
       "    <tr>\n",
       "      <th>1</th>\n",
       "      <td>t_00004da3a1b2</td>\n",
       "      <td>c_376c5a8eb028</td>\n",
       "    </tr>\n",
       "    <tr>\n",
       "      <th>2</th>\n",
       "      <td>t_00004da3a1b2</td>\n",
       "      <td>c_5bc0e1e2cba0</td>\n",
       "    </tr>\n",
       "    <tr>\n",
       "      <th>3</th>\n",
       "      <td>t_00004da3a1b2</td>\n",
       "      <td>c_76231f9d0b5e</td>\n",
       "    </tr>\n",
       "    <tr>\n",
       "      <th>4</th>\n",
       "      <td>t_00068291e9a4</td>\n",
       "      <td>c_639ea2ef9c95</td>\n",
       "    </tr>\n",
       "  </tbody>\n",
       "</table>\n",
       "</div>"
      ],
      "text/plain": [
       "         topic_id      content_id\n",
       "0  t_00004da3a1b2  c_1108dd0c7a5d\n",
       "1  t_00004da3a1b2  c_376c5a8eb028\n",
       "2  t_00004da3a1b2  c_5bc0e1e2cba0\n",
       "3  t_00004da3a1b2  c_76231f9d0b5e\n",
       "4  t_00068291e9a4  c_639ea2ef9c95"
      ]
     },
     "execution_count": 9,
     "metadata": {},
     "output_type": "execute_result"
    }
   ],
   "source": [
    "corr_df = pd.read_csv(\"/kaggle/input/learning-equality-curriculum-recommendations/correlations.csv\")\n",
    "\n",
    "corr_df[\"content_ids\"] = corr_df[\"content_ids\"].apply(lambda x: x.split())\n",
    "\n",
    "corr_df = corr_df.explode('content_ids').reset_index(drop=True).rename(columns={\"content_ids\": \"content_id\"})\n",
    "\n",
    "corr_df.head()"
   ]
  },
  {
   "cell_type": "code",
   "execution_count": 10,
   "id": "8a3c8093",
   "metadata": {
    "execution": {
     "iopub.execute_input": "2023-03-13T19:35:11.095779Z",
     "iopub.status.busy": "2023-03-13T19:35:11.095439Z",
     "iopub.status.idle": "2023-03-13T19:35:12.156429Z",
     "shell.execute_reply": "2023-03-13T19:35:12.155247Z"
    },
    "papermill": {
     "duration": 1.073211,
     "end_time": "2023-03-13T19:35:12.159441",
     "exception": false,
     "start_time": "2023-03-13T19:35:11.086230",
     "status": "completed"
    },
    "tags": []
   },
   "outputs": [],
   "source": [
    "MODEL_DIR = \"/kaggle/input/xlm-roberta-base-config\"\n",
    "\n",
    "roberta_tokenizer = AutoTokenizer.from_pretrained(MODEL_DIR)\n",
    "\n",
    "MODEL_DIR = \"/kaggle/input/bert-base-multilingual-uncased-config\"\n",
    "\n",
    "bert_tokenizer = AutoTokenizer.from_pretrained(MODEL_DIR)"
   ]
  },
  {
   "cell_type": "code",
   "execution_count": 11,
   "id": "3b3848e8",
   "metadata": {
    "execution": {
     "iopub.execute_input": "2023-03-13T19:35:12.176781Z",
     "iopub.status.busy": "2023-03-13T19:35:12.176397Z",
     "iopub.status.idle": "2023-03-13T19:36:20.935018Z",
     "shell.execute_reply": "2023-03-13T19:36:20.933598Z"
    },
    "papermill": {
     "duration": 68.770901,
     "end_time": "2023-03-13T19:36:20.938227",
     "exception": false,
     "start_time": "2023-03-13T19:35:12.167326",
     "status": "completed"
    },
    "tags": []
   },
   "outputs": [],
   "source": [
    "model_w = [0.3, 0.3, 0.4]\n",
    "\n",
    "\n",
    "models = [VecModel(\"/kaggle/input/bert-base-multilingual-uncased-config\", 768, has_top=False), \n",
    "          VecModel(\"/kaggle/input/xlm-roberta-base-config\", 768, has_top=False), \n",
    "          VecModel(\"/kaggle/input/xlm-roberta-large-config\", 1024)]\n",
    "for model in models:\n",
    "    model.cuda()\n",
    "    model.eval()\n",
    "    \n",
    "models[0].load(\"/kaggle/input/lecr-models-758/vec_model_v36bert_full.pth\")\n",
    "models[1].load(\"/kaggle/input/lecr-models-754/vec_model_v36_full.pth\")\n",
    "models[2].load(\"/kaggle/input/lecr-models-754/vec_model_v35large_full.pth\")"
   ]
  },
  {
   "cell_type": "code",
   "execution_count": 12,
   "id": "8cebeeb5",
   "metadata": {
    "execution": {
     "iopub.execute_input": "2023-03-13T19:36:20.956291Z",
     "iopub.status.busy": "2023-03-13T19:36:20.955956Z",
     "iopub.status.idle": "2023-03-13T19:36:21.332538Z",
     "shell.execute_reply": "2023-03-13T19:36:21.331155Z"
    },
    "papermill": {
     "duration": 0.393417,
     "end_time": "2023-03-13T19:36:21.340021",
     "exception": false,
     "start_time": "2023-03-13T19:36:20.946604",
     "status": "completed"
    },
    "tags": []
   },
   "outputs": [
    {
     "data": {
      "text/plain": [
       "78"
      ]
     },
     "execution_count": 12,
     "metadata": {},
     "output_type": "execute_result"
    }
   ],
   "source": [
    "import gc\n",
    "\n",
    "\n",
    "gc.collect()"
   ]
  },
  {
   "cell_type": "code",
   "execution_count": 13,
   "id": "c1641ff2",
   "metadata": {
    "execution": {
     "iopub.execute_input": "2023-03-13T19:36:21.383433Z",
     "iopub.status.busy": "2023-03-13T19:36:21.382906Z",
     "iopub.status.idle": "2023-03-13T19:36:21.403013Z",
     "shell.execute_reply": "2023-03-13T19:36:21.401714Z"
    },
    "papermill": {
     "duration": 0.04601,
     "end_time": "2023-03-13T19:36:21.406903",
     "exception": false,
     "start_time": "2023-03-13T19:36:21.360893",
     "status": "completed"
    },
    "tags": []
   },
   "outputs": [],
   "source": [
    "NW = 8\n",
    "BS = 64\n",
    "\n",
    "class LECRDataset(Dataset):\n",
    "    def __init__(self, df, max_len=512):\n",
    "        self.df = df.reset_index(drop=True)\n",
    "        self.max_len = max_len\n",
    "\n",
    "    def __len__(self):\n",
    "        return self.df.shape[0]\n",
    "\n",
    "    def __getitem__(self, index):\n",
    "        row = self.df.iloc[index]\n",
    "        encoding = roberta_tokenizer(str(row.t), padding='max_length', \n",
    "                                  truncation=True, max_length=self.max_len)\n",
    "\n",
    "        encoding = {key: torch.as_tensor(val) for key, val in encoding.items()}\n",
    "\n",
    "        encoding2 = bert_tokenizer(str(row.t), padding='max_length', \n",
    "                              truncation=True, max_length=self.max_len)\n",
    "        encoding2 = {f\"bert_{key}\": torch.as_tensor(val) for key, val in encoding2.items()}\n",
    "        \n",
    "        encoding.update(encoding2)\n",
    "\n",
    "        return encoding"
   ]
  },
  {
   "cell_type": "code",
   "execution_count": 14,
   "id": "769c0f2f",
   "metadata": {
    "execution": {
     "iopub.execute_input": "2023-03-13T19:36:21.423998Z",
     "iopub.status.busy": "2023-03-13T19:36:21.423687Z",
     "iopub.status.idle": "2023-03-13T20:00:35.385757Z",
     "shell.execute_reply": "2023-03-13T20:00:35.384550Z"
    },
    "papermill": {
     "duration": 1453.973256,
     "end_time": "2023-03-13T20:00:35.388447",
     "exception": false,
     "start_time": "2023-03-13T19:36:21.415191",
     "status": "completed"
    },
    "tags": []
   },
   "outputs": [
    {
     "name": "stderr",
     "output_type": "stream",
     "text": [
      "/opt/conda/lib/python3.7/site-packages/torch/utils/data/dataloader.py:557: UserWarning: This DataLoader will create 8 worker processes in total. Our suggested max number of worker in current system is 2, which is smaller than what this DataLoader is going to create. Please be aware that excessive worker creation might get DataLoader running slow or even freeze, lower the worker number to avoid potential slowness/freeze if necessary.\n",
      "  cpuset_checked))\n"
     ]
    },
    {
     "name": "stdout",
     "output_type": "stream",
     "text": [
      "100%|██████████| 1/1 [00:02<00:00,  2.51s/it]\n",
      "100%|██████████| 2407/2407 [24:09<00:00,  1.66it/s]\n"
     ]
    }
   ],
   "source": [
    "from sklearn.neighbors import NearestNeighbors\n",
    "\n",
    "\n",
    "def to_vec(models, ds):\n",
    "    val_loader = DataLoader(ds, batch_size=BS, shuffle=False, num_workers=NW,\n",
    "                             pin_memory=False, drop_last=False)\n",
    "\n",
    "    tbar = tqdm(val_loader, file=sys.stdout)\n",
    "\n",
    "    vectors = []\n",
    "\n",
    "    with torch.no_grad():\n",
    "        for idx, data in enumerate(tbar):\n",
    "            ids, mask = data[\"input_ids\"].cuda(), data[\"attention_mask\"].cuda()\n",
    "            bert_ids, bert_mask = data[\"bert_input_ids\"].cuda(), data[\"bert_attention_mask\"].cuda()\n",
    "            \n",
    "            vec_list = [model_w[0]*models[0](bert_ids, bert_mask)]\n",
    "            for i in range(1, 3):\n",
    "                vec_list.append(model_w[i]*models[i](ids, mask))\n",
    "                \n",
    "\n",
    "            vec = torch.cat(vec_list, axis=1)\n",
    "            vectors.append(vec.detach().cpu().numpy())\n",
    "\n",
    "    V = np.concatenate(vectors)\n",
    "    \n",
    "    return V\n",
    "\n",
    "\n",
    "\n",
    "def get_matches(V_topic, V_content, topic_ids, content_ids, n_neighbors=5):\n",
    "    \n",
    "    neighbors_model = NearestNeighbors(n_neighbors=n_neighbors, metric='cosine', n_jobs=-1)\n",
    "    neighbors_model.fit(V_content)\n",
    "    dists, indices = neighbors_model.kneighbors(V_topic)\n",
    "    \n",
    "    res_df = pd.DataFrame({\"topic_id\": np.repeat(topic_ids, n_neighbors),\n",
    "                           'content_id': content_ids[indices.ravel()],\n",
    "                           'vec_dist': dists.ravel()\n",
    "                          })\n",
    "    return res_df\n",
    "\n",
    "\n",
    "topic_sub_df = topic_df[topic_df[\"sub\"]].reset_index(drop=True)\n",
    "\n",
    "topic_ds = LECRDataset(topic_sub_df, MAX_LEN)\n",
    "content_ds = LECRDataset(content_df, MAX_LEN)\n",
    "\n",
    "\n",
    "V_topic = to_vec(models, topic_ds)\n",
    "V_content = to_vec(models, content_ds)"
   ]
  },
  {
   "cell_type": "code",
   "execution_count": 15,
   "id": "23fa812b",
   "metadata": {
    "execution": {
     "iopub.execute_input": "2023-03-13T20:00:35.695268Z",
     "iopub.status.busy": "2023-03-13T20:00:35.694897Z",
     "iopub.status.idle": "2023-03-13T20:00:37.891907Z",
     "shell.execute_reply": "2023-03-13T20:00:37.890209Z"
    },
    "papermill": {
     "duration": 2.332554,
     "end_time": "2023-03-13T20:00:37.897286",
     "exception": false,
     "start_time": "2023-03-13T20:00:35.564732",
     "status": "completed"
    },
    "tags": []
   },
   "outputs": [
    {
     "data": {
      "text/plain": [
       "(100, 3)"
      ]
     },
     "execution_count": 15,
     "metadata": {},
     "output_type": "execute_result"
    }
   ],
   "source": [
    "res_dfs = []\n",
    "\n",
    "for lang in topic_sub_df[\"language\"].unique():\n",
    "    topic_ix = np.where(topic_sub_df[\"language\"] == lang)[0]\n",
    "    content_ix = np.where(content_df[\"language\"] == lang)[0]\n",
    "    \n",
    "    res_dfs.append(get_matches(V_topic[topic_ix], V_content[content_ix], \n",
    "                               topic_sub_df[\"id\"].values[topic_ix], content_df[\"id\"].values[content_ix],\n",
    "                    n_neighbors=20))\n",
    "res_df = pd.concat(res_dfs)\n",
    "res_df.shape"
   ]
  },
  {
   "cell_type": "code",
   "execution_count": 16,
   "id": "d939333d",
   "metadata": {
    "execution": {
     "iopub.execute_input": "2023-03-13T20:00:38.187361Z",
     "iopub.status.busy": "2023-03-13T20:00:38.187000Z",
     "iopub.status.idle": "2023-03-13T20:12:44.381257Z",
     "shell.execute_reply": "2023-03-13T20:12:44.379567Z"
    },
    "papermill": {
     "duration": 726.329898,
     "end_time": "2023-03-13T20:12:44.386212",
     "exception": false,
     "start_time": "2023-03-13T20:00:38.056314",
     "status": "completed"
    },
    "tags": []
   },
   "outputs": [
    {
     "name": "stderr",
     "output_type": "stream",
     "text": [
      "/opt/conda/lib/python3.7/site-packages/torch/utils/data/dataloader.py:557: UserWarning: This DataLoader will create 8 worker processes in total. Our suggested max number of worker in current system is 2, which is smaller than what this DataLoader is going to create. Please be aware that excessive worker creation might get DataLoader running slow or even freeze, lower the worker number to avoid potential slowness/freeze if necessary.\n",
      "  cpuset_checked))\n"
     ]
    },
    {
     "name": "stdout",
     "output_type": "stream",
     "text": [
      "100%|██████████| 962/962 [09:40<00:00,  1.66it/s]\n"
     ]
    }
   ],
   "source": [
    "train_df = topic_df[~topic_df[\"sub\"]].reset_index(drop=True)\n",
    "\n",
    "\n",
    "topic_ds = LECRDataset(train_df, MAX_LEN)\n",
    "\n",
    "V_topic_train = to_vec(models, topic_ds)\n",
    "\n",
    "\n",
    "def get_max_train(df, V):\n",
    "    max_train_scores = np.zeros(df.shape[0])\n",
    "    matches = np.zeros(df.shape[0])\n",
    "\n",
    "    for lang in df[\"language\"].unique():\n",
    "        topic_ix = np.where(train_df[\"language\"] == lang)[0]\n",
    "        ix = np.where(df[\"language\"] == lang)[0]\n",
    "\n",
    "        neighbors_model = NearestNeighbors(n_neighbors=1, metric='cosine', n_jobs=-1)\n",
    "        neighbors_model.fit(V_topic_train[topic_ix])\n",
    "        dists, idx = neighbors_model.kneighbors(V[ix])\n",
    "\n",
    "        max_train_scores[ix] = dists.ravel()\n",
    "        matches[ix] = topic_ix[idx.ravel()]  \n",
    "        \n",
    "    return max_train_scores, matches\n",
    "\n",
    "\n",
    "content_max_train_scores, _ = get_max_train(content_df, V_content)\n",
    "    \n",
    "content_df[\"max_train_score\"] = content_max_train_scores"
   ]
  },
  {
   "cell_type": "code",
   "execution_count": 17,
   "id": "f1f46f46",
   "metadata": {
    "execution": {
     "iopub.execute_input": "2023-03-13T20:12:44.814376Z",
     "iopub.status.busy": "2023-03-13T20:12:44.813329Z",
     "iopub.status.idle": "2023-03-13T20:12:45.636876Z",
     "shell.execute_reply": "2023-03-13T20:12:45.635416Z"
    },
    "papermill": {
     "duration": 1.012075,
     "end_time": "2023-03-13T20:12:45.641658",
     "exception": false,
     "start_time": "2023-03-13T20:12:44.629583",
     "status": "completed"
    },
    "tags": []
   },
   "outputs": [],
   "source": [
    "topic_max_train_scores, topic_matches = get_max_train(topic_sub_df, V_topic)\n",
    "    \n",
    "topic_sub_df[\"max_train_score\"] = topic_max_train_scores\n",
    "topic_sub_df[\"matched_topic\"] = train_df[\"id\"].values[topic_matches.astype(int)]"
   ]
  },
  {
   "cell_type": "code",
   "execution_count": 18,
   "id": "158d0f38",
   "metadata": {
    "execution": {
     "iopub.execute_input": "2023-03-13T20:12:46.016025Z",
     "iopub.status.busy": "2023-03-13T20:12:46.015659Z",
     "iopub.status.idle": "2023-03-13T20:12:46.317972Z",
     "shell.execute_reply": "2023-03-13T20:12:46.316803Z"
    },
    "papermill": {
     "duration": 0.48587,
     "end_time": "2023-03-13T20:12:46.320972",
     "exception": false,
     "start_time": "2023-03-13T20:12:45.835102",
     "status": "completed"
    },
    "tags": []
   },
   "outputs": [
    {
     "data": {
      "text/plain": [
       "474"
      ]
     },
     "execution_count": 18,
     "metadata": {},
     "output_type": "execute_result"
    }
   ],
   "source": [
    "del V_content, V_topic, V_topic_train\n",
    "del models\n",
    "\n",
    "gc.collect()"
   ]
  },
  {
   "cell_type": "code",
   "execution_count": 19,
   "id": "bbf781a0",
   "metadata": {
    "execution": {
     "iopub.execute_input": "2023-03-13T20:12:46.682601Z",
     "iopub.status.busy": "2023-03-13T20:12:46.681398Z",
     "iopub.status.idle": "2023-03-13T20:12:46.730851Z",
     "shell.execute_reply": "2023-03-13T20:12:46.729710Z"
    },
    "papermill": {
     "duration": 0.232988,
     "end_time": "2023-03-13T20:12:46.733496",
     "exception": false,
     "start_time": "2023-03-13T20:12:46.500508",
     "status": "completed"
    },
    "tags": []
   },
   "outputs": [
    {
     "data": {
      "text/plain": [
       "(23, 3)"
      ]
     },
     "execution_count": 19,
     "metadata": {},
     "output_type": "execute_result"
    }
   ],
   "source": [
    "second_degree_match_df = topic_sub_df.merge(corr_df, left_on=\"matched_topic\", right_on=\"topic_id\")[[\"id\", \"content_id\"]]\n",
    "second_degree_match_df[\"second_degree\"] = True\n",
    "second_degree_match_df.rename(columns={\"id\": \"topic_id\"}, inplace=True)\n",
    "second_degree_match_df.shape"
   ]
  },
  {
   "cell_type": "code",
   "execution_count": 20,
   "id": "4672105b",
   "metadata": {
    "execution": {
     "iopub.execute_input": "2023-03-13T20:12:47.094846Z",
     "iopub.status.busy": "2023-03-13T20:12:47.094476Z",
     "iopub.status.idle": "2023-03-13T20:13:10.677149Z",
     "shell.execute_reply": "2023-03-13T20:13:10.675820Z"
    },
    "papermill": {
     "duration": 23.766622,
     "end_time": "2023-03-13T20:13:10.679945",
     "exception": false,
     "start_time": "2023-03-13T20:12:46.913323",
     "status": "completed"
    },
    "tags": []
   },
   "outputs": [
    {
     "name": "stdout",
     "output_type": "stream",
     "text": [
      "bg\n",
      "34619 2420 6050\n",
      "----\n",
      "pt\n",
      "37485 3425 10435\n",
      "----\n",
      "en\n",
      "136622 28053 65939\n",
      "----\n"
     ]
    },
    {
     "data": {
      "text/plain": [
       "(100, 3)"
      ]
     },
     "execution_count": 20,
     "metadata": {},
     "output_type": "execute_result"
    }
   ],
   "source": [
    "from sklearn.feature_extraction.text import TfidfVectorizer\n",
    "from sparse_dot_topn import awesome_cossim_topn\n",
    "\n",
    "\n",
    "def get_matches(topic_df, content_df):\n",
    "    tfidf = TfidfVectorizer(analyzer=\"char\", ngram_range=(4, 4), min_df=2)\n",
    "\n",
    "    tfidf.fit(pd.concat([content_df[\"t\"], topic_df[\"t\"]]))\n",
    "    print(len(tfidf.vocabulary_), topic_df.shape[0], content_df.shape[0])\n",
    "    \n",
    "    topic_df = topic_df[topic_df[\"sub\"]].reset_index(drop=True)\n",
    "    \n",
    "    V_topic = tfidf.transform(topic_df[\"title\"] + \" \" + topic_df[\"t\"])\n",
    "    V_content = tfidf.transform(content_df[\"title\"] + \" \" + content_df[\"t\"])\n",
    "\n",
    "    d = awesome_cossim_topn(V_topic, V_content.T, 20, 0.01, use_threads=True, n_jobs=4)\n",
    "\n",
    "    non_zeros = d.nonzero()\n",
    "\n",
    "    name_indices = non_zeros[0]\n",
    "    gt_indices = non_zeros[1]\n",
    "\n",
    "    content_ids = content_df[\"id\"].values\n",
    "    topic_ids = topic_df[\"id\"].values\n",
    "\n",
    "    left_side = np.empty(gt_indices.size, dtype=object)\n",
    "    right_side = np.empty(gt_indices.size, dtype=object)\n",
    "    match_score = np.zeros(gt_indices.size)\n",
    "\n",
    "    for index in range(gt_indices.size):\n",
    "        left_side[index] = topic_ids[name_indices[index]]\n",
    "        right_side[index] = content_ids[gt_indices[index]]\n",
    "        match_score[index] = d.data[index]\n",
    "\n",
    "    res_df = pd.DataFrame({\"topic_id\": left_side,\n",
    "                           'content_id': right_side,\n",
    "                           'match_score': match_score\n",
    "                          })\n",
    "    return res_df\n",
    "\n",
    "\n",
    "res_dfs = []\n",
    "\n",
    "for lang in topic_sub_df[\"language\"].unique():\n",
    "    print(lang)\n",
    "    content_df_lang = content_df[(content_df[\"language\"] == lang)].reset_index(drop=True)\n",
    "    topic_df_lang = topic_df[(topic_df[\"language\"] == lang)].reset_index(drop=True)\n",
    "    \n",
    "    if content_df_lang.shape[0] > 0:\n",
    "        res_dfs.append(get_matches(topic_df_lang, content_df_lang))\n",
    "        \n",
    "    print(\"----\")\n",
    "    \n",
    "res_df2 = pd.concat(res_dfs)\n",
    "res_df2.shape"
   ]
  },
  {
   "cell_type": "code",
   "execution_count": 21,
   "id": "0148079a",
   "metadata": {
    "execution": {
     "iopub.execute_input": "2023-03-13T20:13:11.050138Z",
     "iopub.status.busy": "2023-03-13T20:13:11.049777Z",
     "iopub.status.idle": "2023-03-13T20:13:11.999640Z",
     "shell.execute_reply": "2023-03-13T20:13:11.998567Z"
    },
    "papermill": {
     "duration": 1.133245,
     "end_time": "2023-03-13T20:13:12.002754",
     "exception": false,
     "start_time": "2023-03-13T20:13:10.869509",
     "status": "completed"
    },
    "tags": []
   },
   "outputs": [
    {
     "data": {
      "text/html": [
       "<div>\n",
       "<style scoped>\n",
       "    .dataframe tbody tr th:only-of-type {\n",
       "        vertical-align: middle;\n",
       "    }\n",
       "\n",
       "    .dataframe tbody tr th {\n",
       "        vertical-align: top;\n",
       "    }\n",
       "\n",
       "    .dataframe thead th {\n",
       "        text-align: right;\n",
       "    }\n",
       "</style>\n",
       "<table border=\"1\" class=\"dataframe\">\n",
       "  <thead>\n",
       "    <tr style=\"text-align: right;\">\n",
       "      <th></th>\n",
       "      <th>topic_id</th>\n",
       "      <th>content_id</th>\n",
       "      <th>dup_count</th>\n",
       "    </tr>\n",
       "  </thead>\n",
       "  <tbody>\n",
       "    <tr>\n",
       "      <th>0</th>\n",
       "      <td>t_00069b63a70a</td>\n",
       "      <td>c_01a0e6e59063</td>\n",
       "      <td>1</td>\n",
       "    </tr>\n",
       "    <tr>\n",
       "      <th>1</th>\n",
       "      <td>t_00069b63a70a</td>\n",
       "      <td>c_037b8be79422</td>\n",
       "      <td>1</td>\n",
       "    </tr>\n",
       "    <tr>\n",
       "      <th>2</th>\n",
       "      <td>t_00069b63a70a</td>\n",
       "      <td>c_03b5ed305bcc</td>\n",
       "      <td>1</td>\n",
       "    </tr>\n",
       "    <tr>\n",
       "      <th>3</th>\n",
       "      <td>t_00069b63a70a</td>\n",
       "      <td>c_04a65a739d47</td>\n",
       "      <td>1</td>\n",
       "    </tr>\n",
       "    <tr>\n",
       "      <th>4</th>\n",
       "      <td>t_00069b63a70a</td>\n",
       "      <td>c_05ff8bd1fd30</td>\n",
       "      <td>1</td>\n",
       "    </tr>\n",
       "    <tr>\n",
       "      <th>...</th>\n",
       "      <td>...</td>\n",
       "      <td>...</td>\n",
       "      <td>...</td>\n",
       "    </tr>\n",
       "    <tr>\n",
       "      <th>149</th>\n",
       "      <td>t_00069b63a70a</td>\n",
       "      <td>c_fbb631d460b8</td>\n",
       "      <td>2</td>\n",
       "    </tr>\n",
       "    <tr>\n",
       "      <th>150</th>\n",
       "      <td>t_00069b63a70a</td>\n",
       "      <td>c_fbf85d018b8a</td>\n",
       "      <td>1</td>\n",
       "    </tr>\n",
       "    <tr>\n",
       "      <th>151</th>\n",
       "      <td>t_00069b63a70a</td>\n",
       "      <td>c_fda21411f22d</td>\n",
       "      <td>1</td>\n",
       "    </tr>\n",
       "    <tr>\n",
       "      <th>152</th>\n",
       "      <td>t_00069b63a70a</td>\n",
       "      <td>c_fe0ef07ada86</td>\n",
       "      <td>1</td>\n",
       "    </tr>\n",
       "    <tr>\n",
       "      <th>153</th>\n",
       "      <td>t_00069b63a70a</td>\n",
       "      <td>c_fef1b5057523</td>\n",
       "      <td>1</td>\n",
       "    </tr>\n",
       "  </tbody>\n",
       "</table>\n",
       "<p>154 rows × 3 columns</p>\n",
       "</div>"
      ],
      "text/plain": [
       "           topic_id      content_id  dup_count\n",
       "0    t_00069b63a70a  c_01a0e6e59063          1\n",
       "1    t_00069b63a70a  c_037b8be79422          1\n",
       "2    t_00069b63a70a  c_03b5ed305bcc          1\n",
       "3    t_00069b63a70a  c_04a65a739d47          1\n",
       "4    t_00069b63a70a  c_05ff8bd1fd30          1\n",
       "..              ...             ...        ...\n",
       "149  t_00069b63a70a  c_fbb631d460b8          2\n",
       "150  t_00069b63a70a  c_fbf85d018b8a          1\n",
       "151  t_00069b63a70a  c_fda21411f22d          1\n",
       "152  t_00069b63a70a  c_fe0ef07ada86          1\n",
       "153  t_00069b63a70a  c_fef1b5057523          1\n",
       "\n",
       "[154 rows x 3 columns]"
      ]
     },
     "execution_count": 21,
     "metadata": {},
     "output_type": "execute_result"
    }
   ],
   "source": [
    "topic_df.columns = [f\"topic_{col}\" for col in topic_df.columns]\n",
    "content_df.columns = [f\"content_{col}\" for col in content_df.columns]\n",
    "\n",
    "corr_df[\"target\"] = 1\n",
    "\n",
    "topic_df[\"key\"] = topic_df[\"topic_title\"].fillna(\"\") + \" | \" + topic_df[\"topic_description\"].fillna(\"\")\n",
    "\n",
    "train_df = topic_df[~topic_df[\"topic_sub\"]]\n",
    "\n",
    "lookup = train_df.merge(corr_df, on=\"topic_id\").groupby([\"key\", \"content_id\"])[\"topic_channel\"].count().reset_index()\n",
    "lookup.rename(columns={\"topic_channel\": \"dup_count\"}, inplace=True)\n",
    "\n",
    "    \n",
    "dup_df = topic_df[topic_df[\"topic_sub\"]][[\"topic_id\", \"key\"]].merge(lookup, on=[\"key\"])[[\"topic_id\", 'content_id', \"dup_count\"]]\n",
    "dup_df"
   ]
  },
  {
   "cell_type": "code",
   "execution_count": 22,
   "id": "9a46113e",
   "metadata": {
    "execution": {
     "iopub.execute_input": "2023-03-13T20:13:12.761177Z",
     "iopub.status.busy": "2023-03-13T20:13:12.752845Z",
     "iopub.status.idle": "2023-03-13T20:13:12.841452Z",
     "shell.execute_reply": "2023-03-13T20:13:12.840514Z"
    },
    "papermill": {
     "duration": 0.468095,
     "end_time": "2023-03-13T20:13:12.843921",
     "exception": false,
     "start_time": "2023-03-13T20:13:12.375826",
     "status": "completed"
    },
    "tags": []
   },
   "outputs": [
    {
     "data": {
      "text/plain": [
       "(305, 6)"
      ]
     },
     "execution_count": 22,
     "metadata": {},
     "output_type": "execute_result"
    }
   ],
   "source": [
    "res_df = res_df.merge(res_df2, how=\"outer\", on=[\"topic_id\", \"content_id\"])\n",
    "res_df = res_df.merge(dup_df, how=\"outer\", on=[\"topic_id\", \"content_id\"])\n",
    "res_df = res_df.merge(second_degree_match_df, how=\"outer\", on=[\"topic_id\", \"content_id\"])\n",
    "\n",
    "res_df.shape"
   ]
  },
  {
   "cell_type": "code",
   "execution_count": 23,
   "id": "78d5110c",
   "metadata": {
    "execution": {
     "iopub.execute_input": "2023-03-13T20:13:13.490380Z",
     "iopub.status.busy": "2023-03-13T20:13:13.490019Z",
     "iopub.status.idle": "2023-03-13T20:13:14.227664Z",
     "shell.execute_reply": "2023-03-13T20:13:14.226540Z"
    },
    "papermill": {
     "duration": 0.927466,
     "end_time": "2023-03-13T20:13:14.230076",
     "exception": false,
     "start_time": "2023-03-13T20:13:13.302610",
     "status": "completed"
    },
    "tags": []
   },
   "outputs": [
    {
     "data": {
      "text/plain": [
       "(305, 7)"
      ]
     },
     "execution_count": 23,
     "metadata": {},
     "output_type": "execute_result"
    }
   ],
   "source": [
    "topic_df[\"key\"] = topic_df[\"topic_title\"].fillna(\"\")\n",
    "\n",
    "train_df = topic_df[~topic_df[\"topic_sub\"]]\n",
    "\n",
    "\n",
    "lookup = train_df.merge(corr_df, on=\"topic_id\").groupby([\"key\", \"content_id\"])[\"topic_channel\"].count().reset_index()\n",
    "lookup.rename(columns={\"topic_channel\": \"tdup_count\"}, inplace=True)\n",
    "\n",
    "dup_df = topic_df[topic_df[\"topic_sub\"]].merge(lookup, on=[\"key\"])[[\"topic_id\", 'content_id', \"tdup_count\"]]\n",
    "\n",
    "res_df = res_df.merge(dup_df, how=\"outer\", on=[\"topic_id\", \"content_id\"])\n",
    "res_df.shape"
   ]
  },
  {
   "cell_type": "code",
   "execution_count": 24,
   "id": "a63fc002",
   "metadata": {
    "execution": {
     "iopub.execute_input": "2023-03-13T20:13:14.595936Z",
     "iopub.status.busy": "2023-03-13T20:13:14.595537Z",
     "iopub.status.idle": "2023-03-13T20:13:15.296653Z",
     "shell.execute_reply": "2023-03-13T20:13:15.295576Z"
    },
    "papermill": {
     "duration": 0.884433,
     "end_time": "2023-03-13T20:13:15.299185",
     "exception": false,
     "start_time": "2023-03-13T20:13:14.414752",
     "status": "completed"
    },
    "tags": []
   },
   "outputs": [
    {
     "data": {
      "text/plain": [
       "(510, 8)"
      ]
     },
     "execution_count": 24,
     "metadata": {},
     "output_type": "execute_result"
    }
   ],
   "source": [
    "topic_df[\"key\"] = topic_df[\"topic_parent\"].fillna(topic_df[\"topic_id\"])\n",
    "\n",
    "train_df = topic_df[~topic_df[\"topic_sub\"]]\n",
    "\n",
    "\n",
    "lookup = train_df.merge(corr_df, on=\"topic_id\").groupby([\"key\", \"content_id\"])[\"topic_channel\"].count().reset_index()\n",
    "lookup.rename(columns={\"topic_channel\": \"pdup_count\"}, inplace=True)\n",
    "\n",
    "dup_df = topic_df[topic_df[\"topic_sub\"]].merge(lookup, on=[\"key\"])[[\"topic_id\", 'content_id', \"pdup_count\"]]\n",
    "\n",
    "res_df = res_df.merge(dup_df, how=\"outer\", on=[\"topic_id\", \"content_id\"])\n",
    "res_df.shape"
   ]
  },
  {
   "cell_type": "code",
   "execution_count": 25,
   "id": "8a6263f3",
   "metadata": {
    "execution": {
     "iopub.execute_input": "2023-03-13T20:13:15.664713Z",
     "iopub.status.busy": "2023-03-13T20:13:15.663698Z",
     "iopub.status.idle": "2023-03-13T20:13:15.774208Z",
     "shell.execute_reply": "2023-03-13T20:13:15.772997Z"
    },
    "papermill": {
     "duration": 0.293353,
     "end_time": "2023-03-13T20:13:15.777469",
     "exception": false,
     "start_time": "2023-03-13T20:13:15.484116",
     "status": "completed"
    },
    "tags": []
   },
   "outputs": [
    {
     "data": {
      "text/plain": [
       "(510, 36)"
      ]
     },
     "execution_count": 25,
     "metadata": {},
     "output_type": "execute_result"
    }
   ],
   "source": [
    "res_df = res_df.merge(topic_df[topic_df[\"topic_sub\"]], on=\"topic_id\", how=\"left\")\n",
    "res_df = res_df.merge(content_df, on=\"content_id\", how=\"left\")\n",
    "\n",
    "res_df.shape"
   ]
  },
  {
   "cell_type": "code",
   "execution_count": 26,
   "id": "7b4f9b11",
   "metadata": {
    "execution": {
     "iopub.execute_input": "2023-03-13T20:13:16.145382Z",
     "iopub.status.busy": "2023-03-13T20:13:16.145016Z",
     "iopub.status.idle": "2023-03-13T20:13:16.161483Z",
     "shell.execute_reply": "2023-03-13T20:13:16.160561Z"
    },
    "papermill": {
     "duration": 0.202699,
     "end_time": "2023-03-13T20:13:16.163769",
     "exception": false,
     "start_time": "2023-03-13T20:13:15.961070",
     "status": "completed"
    },
    "tags": []
   },
   "outputs": [],
   "source": [
    "res_df[\"topic_language\"] = res_df[\"topic_language\"].astype(\"category\")\n",
    "res_df[\"topic_category\"] = res_df[\"topic_category\"].astype(\"category\")\n",
    "res_df[\"content_kind\"] = res_df[\"content_kind\"].astype(\"category\")\n",
    "res_df[\"topic_channel\"] = res_df[\"topic_channel\"].astype(\"category\")\n",
    "\n",
    "res_df[\"len_topic_title\"] = res_df[\"topic_title\"].fillna(\"\").apply(len)\n",
    "res_df[\"len_topic_description\"] = res_df[\"topic_description\"].fillna(\"\").apply(len)\n",
    "res_df[\"len_content_title\"] = res_df[\"content_title\"].fillna(\"\").apply(len)\n",
    "res_df[\"len_content_description\"] = res_df[\"content_description\"].fillna(\"\").apply(len)\n",
    "res_df[\"len_content_text\"] = res_df[\"content_text\"].fillna(\"\").apply(len)"
   ]
  },
  {
   "cell_type": "code",
   "execution_count": 27,
   "id": "059ef6e4",
   "metadata": {
    "execution": {
     "iopub.execute_input": "2023-03-13T20:13:16.571541Z",
     "iopub.status.busy": "2023-03-13T20:13:16.570575Z",
     "iopub.status.idle": "2023-03-13T20:13:16.600320Z",
     "shell.execute_reply": "2023-03-13T20:13:16.599284Z"
    },
    "papermill": {
     "duration": 0.213154,
     "end_time": "2023-03-13T20:13:16.602727",
     "exception": false,
     "start_time": "2023-03-13T20:13:16.389573",
     "status": "completed"
    },
    "tags": []
   },
   "outputs": [],
   "source": [
    "res_df[\"vec_dist_max\"] = res_df.groupby(\"topic_id\")[\"vec_dist\"].transform(\"max\")\n",
    "res_df[\"vec_dist_min\"] = res_df.groupby(\"topic_id\")[\"vec_dist\"].transform(\"min\")\n",
    "\n",
    "res_df[\"dup_count\"] = res_df[\"dup_count\"].fillna(0)\n",
    "res_df[\"total_count\"] = res_df.groupby(\"topic_id\")[\"content_id\"].transform(\"count\")\n",
    "res_df[\"dup_count_mean\"] = res_df.groupby(\"topic_id\")[\"dup_count\"].transform(\"mean\")\n",
    "\n",
    "res_df[\"tdup_count\"] = res_df[\"tdup_count\"].fillna(0)\n",
    "res_df[\"tdup_count_mean\"] = res_df.groupby(\"topic_id\")[\"tdup_count\"].transform(\"mean\")\n",
    "\n",
    "res_df[\"pdup_count\"] = res_df[\"pdup_count\"].fillna(0)\n",
    "res_df[\"pdup_count_mean\"] = res_df.groupby(\"topic_id\")[\"pdup_count\"].transform(\"mean\")\n",
    "\n",
    "res_df[\"same_chapter\"] = res_df[\"topic_chapter\"] == res_df[\"content_chapter\"]\n",
    "res_df[\"starts_same\"] = res_df[\"topic_title\"].apply(lambda x: x.split(\" \", 1)[0]) == res_df[\"content_title\"].apply(lambda x: x.split(\" \", 1)[0])\n",
    "\n",
    "res_df.loc[~res_df[\"content_is_train\"], \"content_max_train_score\"] = None\n",
    "res_df[\"second_degree\"].fillna(False, inplace=True)\n",
    "res_df[\"topic_max_train_score\"] = res_df[\"topic_id\"].map(topic_sub_df.set_index(\"id\")[\"max_train_score\"].to_dict())"
   ]
  },
  {
   "cell_type": "code",
   "execution_count": 28,
   "id": "e1f478e7",
   "metadata": {
    "execution": {
     "iopub.execute_input": "2023-03-13T20:13:16.972779Z",
     "iopub.status.busy": "2023-03-13T20:13:16.972252Z",
     "iopub.status.idle": "2023-03-13T20:13:19.667774Z",
     "shell.execute_reply": "2023-03-13T20:13:19.666718Z"
    },
    "papermill": {
     "duration": 2.881522,
     "end_time": "2023-03-13T20:13:19.670665",
     "exception": false,
     "start_time": "2023-03-13T20:13:16.789143",
     "status": "completed"
    },
    "tags": []
   },
   "outputs": [
    {
     "data": {
      "text/html": [
       "<style type='text/css'>\n",
       ".datatable table.frame { margin-bottom: 0; }\n",
       ".datatable table.frame thead { border-bottom: none; }\n",
       ".datatable table.frame tr.coltypes td {  color: #FFFFFF;  line-height: 6px;  padding: 0 0.5em;}\n",
       ".datatable .bool    { background: #DDDD99; }\n",
       ".datatable .object  { background: #565656; }\n",
       ".datatable .int     { background: #5D9E5D; }\n",
       ".datatable .float   { background: #4040CC; }\n",
       ".datatable .str     { background: #CC4040; }\n",
       ".datatable .time    { background: #40CC40; }\n",
       ".datatable .row_index {  background: var(--jp-border-color3);  border-right: 1px solid var(--jp-border-color0);  color: var(--jp-ui-font-color3);  font-size: 9px;}\n",
       ".datatable .frame tbody td { text-align: left; }\n",
       ".datatable .frame tr.coltypes .row_index {  background: var(--jp-border-color0);}\n",
       ".datatable th:nth-child(2) { padding-left: 12px; }\n",
       ".datatable .hellipsis {  color: var(--jp-cell-editor-border-color);}\n",
       ".datatable .vellipsis {  background: var(--jp-layout-color0);  color: var(--jp-cell-editor-border-color);}\n",
       ".datatable .na {  color: var(--jp-cell-editor-border-color);  font-size: 80%;}\n",
       ".datatable .sp {  opacity: 0.25;}\n",
       ".datatable .footer { font-size: 9px; }\n",
       ".datatable .frame_dimensions {  background: var(--jp-border-color3);  border-top: 1px solid var(--jp-border-color0);  color: var(--jp-ui-font-color3);  display: inline-block;  opacity: 0.6;  padding: 1px 10px 1px 5px;}\n",
       "</style>\n"
      ],
      "text/plain": [
       "<IPython.core.display.HTML object>"
      ]
     },
     "metadata": {},
     "output_type": "display_data"
    }
   ],
   "source": [
    "import lightgbm as lgb\n",
    "\n",
    "N_FOLDS = 4\n",
    "\n",
    "res_df[\"pred\"] = 0    \n",
    "    \n",
    "features = [\"match_score\",\n",
    "            \"vec_dist\", \"vec_dist_max\", \"vec_dist_min\", \"len_content_text\",\n",
    "            \"len_topic_title\", \"len_topic_description\", \"len_content_title\", \"len_content_description\",\n",
    "             \"dup_count\", \"total_count\", \"dup_count_mean\",\n",
    "            \"tdup_count\", \"tdup_count_mean\", \"pdup_count\", \"pdup_count_mean\",\n",
    "            \"topic_language\", \"topic_category\", \"content_kind\", \"topic_level\",\n",
    "            \"same_chapter\", \"starts_same\", \"content_is_train\", \"topic_channel\", \n",
    "            \"content_max_train_score\", \"topic_max_train_score\", \"second_degree\"\n",
    "           ]\n",
    "\n",
    "for f in range(N_FOLDS):\n",
    "    lgb_model = lgb.Booster(model_file=f\"/kaggle/input/lecr-models-758/lgb_{f}.txt\")\n",
    "    res_df[\"pred\"] += lgb_model.predict(res_df[features]) / N_FOLDS / 2"
   ]
  },
  {
   "cell_type": "code",
   "execution_count": 29,
   "id": "c98f537c",
   "metadata": {
    "execution": {
     "iopub.execute_input": "2023-03-13T20:13:20.034421Z",
     "iopub.status.busy": "2023-03-13T20:13:20.034051Z",
     "iopub.status.idle": "2023-03-13T20:13:21.750688Z",
     "shell.execute_reply": "2023-03-13T20:13:21.749637Z"
    },
    "papermill": {
     "duration": 1.899761,
     "end_time": "2023-03-13T20:13:21.753522",
     "exception": false,
     "start_time": "2023-03-13T20:13:19.853761",
     "status": "completed"
    },
    "tags": []
   },
   "outputs": [],
   "source": [
    "features = [\"match_score\", #\"match_score_max\", \"match_score_min\",\n",
    "            \"vec_dist\", #\"vec_dist_max\", \"vec_dist_min\", \n",
    "            \"len_content_text\",\n",
    "            \"len_topic_title\", \"len_topic_description\", \"len_content_title\", \"len_content_description\",\n",
    "             \"dup_count\", \"total_count\", \"dup_count_mean\",\n",
    "            \"tdup_count\", \"tdup_count_mean\", \"pdup_count\", \"pdup_count_mean\",\n",
    "            \"topic_language\", \"topic_category\", \n",
    "            \"content_kind\", \"topic_level\",\n",
    "            \"same_chapter\", \"starts_same\", \"content_is_train\", \"topic_channel\",\n",
    "            \"content_max_train_score\", \"topic_max_train_score\", \"second_degree\"\n",
    "           ]\n",
    "\n",
    "for f in range(N_FOLDS):\n",
    "    lgb_model = lgb.Booster(model_file=f\"/kaggle/input/lecr-models-752-exp-diverse/lgb_{f}.txt\")\n",
    "    res_df[\"pred\"] += lgb_model.predict(res_df[features]) / N_FOLDS / 2"
   ]
  },
  {
   "cell_type": "code",
   "execution_count": 30,
   "id": "87c71ea0",
   "metadata": {
    "execution": {
     "iopub.execute_input": "2023-03-13T20:13:22.123326Z",
     "iopub.status.busy": "2023-03-13T20:13:22.122946Z",
     "iopub.status.idle": "2023-03-13T20:13:22.148580Z",
     "shell.execute_reply": "2023-03-13T20:13:22.147506Z"
    },
    "papermill": {
     "duration": 0.214338,
     "end_time": "2023-03-13T20:13:22.151372",
     "exception": false,
     "start_time": "2023-03-13T20:13:21.937034",
     "status": "completed"
    },
    "tags": []
   },
   "outputs": [],
   "source": [
    "res_df[\"rank\"] = res_df.groupby(\"topic_id\")[\"pred\"].rank(method=\"first\", ascending=False)\n",
    "\n",
    "res_df[\"gap\"] = res_df.groupby(\"topic_id\")[\"pred\"].transform(\"max\") - res_df[\"pred\"]\n",
    "\n",
    "res_df[\"content_dist\"] = res_df[\"gap\"] + res_df.groupby(\"content_id\")[\"pred\"].transform(\"max\") - res_df[\"pred\"]\n",
    "\n",
    "res_df[\"content_rank\"] = res_df.groupby(\"content_id\")[\"content_dist\"].rank(method=\"first\")\n",
    "\n",
    "pred_df = res_df[(res_df[\"rank\"] == 1) | \n",
    "                 ((res_df[\"gap\"] < 0.25) & res_df[\"content_is_train\"] & (res_df[\"pred\"] > 0.05)) | \n",
    "                 (~res_df[\"content_is_train\"] & (res_df[\"content_rank\"] == 1) & (res_df[\"content_dist\"] < 0.55)) | \n",
    "                 (~res_df[\"content_is_train\"] & (res_df[\"gap\"] < 0.05))]\n",
    "\n",
    "pred_df = pred_df.groupby(\"topic_id\")[\"content_id\"].apply(lambda x: \" \".join(list(x)))\n",
    "pred_df = pred_df.reset_index().rename(columns={\"content_id\": 'content_ids'})"
   ]
  },
  {
   "cell_type": "code",
   "execution_count": 31,
   "id": "ec08d877",
   "metadata": {
    "execution": {
     "iopub.execute_input": "2023-03-13T20:13:22.523084Z",
     "iopub.status.busy": "2023-03-13T20:13:22.522090Z",
     "iopub.status.idle": "2023-03-13T20:13:22.536937Z",
     "shell.execute_reply": "2023-03-13T20:13:22.535767Z"
    },
    "papermill": {
     "duration": 0.199794,
     "end_time": "2023-03-13T20:13:22.539197",
     "exception": false,
     "start_time": "2023-03-13T20:13:22.339403",
     "status": "completed"
    },
    "tags": []
   },
   "outputs": [
    {
     "data": {
      "text/html": [
       "<div>\n",
       "<style scoped>\n",
       "    .dataframe tbody tr th:only-of-type {\n",
       "        vertical-align: middle;\n",
       "    }\n",
       "\n",
       "    .dataframe tbody tr th {\n",
       "        vertical-align: top;\n",
       "    }\n",
       "\n",
       "    .dataframe thead th {\n",
       "        text-align: right;\n",
       "    }\n",
       "</style>\n",
       "<table border=\"1\" class=\"dataframe\">\n",
       "  <thead>\n",
       "    <tr style=\"text-align: right;\">\n",
       "      <th></th>\n",
       "      <th>topic_id</th>\n",
       "      <th>content_ids</th>\n",
       "    </tr>\n",
       "  </thead>\n",
       "  <tbody>\n",
       "    <tr>\n",
       "      <th>0</th>\n",
       "      <td>t_00004da3a1b2</td>\n",
       "      <td>c_5bc0e1e2cba0 c_76231f9d0b5e c_1108dd0c7a5d c...</td>\n",
       "    </tr>\n",
       "    <tr>\n",
       "      <th>1</th>\n",
       "      <td>t_00068291e9a4</td>\n",
       "      <td>c_ebb7fdf10a7e c_639ea2ef9c95 c_89ce9367be10 c...</td>\n",
       "    </tr>\n",
       "    <tr>\n",
       "      <th>2</th>\n",
       "      <td>t_00069b63a70a</td>\n",
       "      <td>c_11a1dc0bfb99</td>\n",
       "    </tr>\n",
       "    <tr>\n",
       "      <th>3</th>\n",
       "      <td>t_0006d41a73a8</td>\n",
       "      <td>c_0c6473c3480d c_d7a0d7eaf799 c_b972646631cb c...</td>\n",
       "    </tr>\n",
       "    <tr>\n",
       "      <th>4</th>\n",
       "      <td>t_4054df11a74e</td>\n",
       "      <td>c_3695c5dc1df6</td>\n",
       "    </tr>\n",
       "  </tbody>\n",
       "</table>\n",
       "</div>"
      ],
      "text/plain": [
       "         topic_id                                        content_ids\n",
       "0  t_00004da3a1b2  c_5bc0e1e2cba0 c_76231f9d0b5e c_1108dd0c7a5d c...\n",
       "1  t_00068291e9a4  c_ebb7fdf10a7e c_639ea2ef9c95 c_89ce9367be10 c...\n",
       "2  t_00069b63a70a                                     c_11a1dc0bfb99\n",
       "3  t_0006d41a73a8  c_0c6473c3480d c_d7a0d7eaf799 c_b972646631cb c...\n",
       "4  t_4054df11a74e                                     c_3695c5dc1df6"
      ]
     },
     "execution_count": 31,
     "metadata": {},
     "output_type": "execute_result"
    }
   ],
   "source": [
    "res_df = topic_df[topic_df[\"topic_sub\"]][[\"topic_id\"]].merge(pred_df, on=\"topic_id\", how=\"left\")\n",
    "res_df[\"content_ids\"].fillna(\"\", inplace=True)\n",
    "res_df"
   ]
  },
  {
   "cell_type": "code",
   "execution_count": 32,
   "id": "7c336a1c",
   "metadata": {
    "execution": {
     "iopub.execute_input": "2023-03-13T20:13:22.948721Z",
     "iopub.status.busy": "2023-03-13T20:13:22.948340Z",
     "iopub.status.idle": "2023-03-13T20:13:22.957559Z",
     "shell.execute_reply": "2023-03-13T20:13:22.956639Z"
    },
    "papermill": {
     "duration": 0.191797,
     "end_time": "2023-03-13T20:13:22.959656",
     "exception": false,
     "start_time": "2023-03-13T20:13:22.767859",
     "status": "completed"
    },
    "tags": []
   },
   "outputs": [],
   "source": [
    "res_df.to_csv(\"submission.csv\", index=False)"
   ]
  },
  {
   "cell_type": "code",
   "execution_count": null,
   "id": "d05cf856",
   "metadata": {
    "papermill": {
     "duration": 0.179488,
     "end_time": "2023-03-13T20:13:23.317538",
     "exception": false,
     "start_time": "2023-03-13T20:13:23.138050",
     "status": "completed"
    },
    "tags": []
   },
   "outputs": [],
   "source": []
  }
 ],
 "metadata": {
  "kernelspec": {
   "display_name": "Python 3",
   "language": "python",
   "name": "python3"
  },
  "language_info": {
   "codemirror_mode": {
    "name": "ipython",
    "version": 3
   },
   "file_extension": ".py",
   "mimetype": "text/x-python",
   "name": "python",
   "nbconvert_exporter": "python",
   "pygments_lexer": "ipython3",
   "version": "3.7.12"
  },
  "papermill": {
   "default_parameters": {},
   "duration": 2367.164909,
   "end_time": "2023-03-13T20:13:27.038186",
   "environment_variables": {},
   "exception": null,
   "input_path": "__notebook__.ipynb",
   "output_path": "__notebook__.ipynb",
   "parameters": {},
   "start_time": "2023-03-13T19:33:59.873277",
   "version": "2.4.0"
  }
 },
 "nbformat": 4,
 "nbformat_minor": 5
}
