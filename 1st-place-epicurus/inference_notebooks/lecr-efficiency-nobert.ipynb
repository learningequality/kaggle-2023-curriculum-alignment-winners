{
 "cells": [
  {
   "cell_type": "code",
   "execution_count": 1,
   "id": "f73042bf",
   "metadata": {
    "_cell_guid": "b1076dfc-b9ad-4769-8c92-a6c4dae69d19",
    "_uuid": "8f2839f25d086af736a60e9eeb907d3b93b6e0e5",
    "execution": {
     "iopub.execute_input": "2023-03-12T12:22:22.447803Z",
     "iopub.status.busy": "2023-03-12T12:22:22.446929Z",
     "iopub.status.idle": "2023-03-12T12:22:54.240591Z",
     "shell.execute_reply": "2023-03-12T12:22:54.239381Z"
    },
    "papermill": {
     "duration": 31.806788,
     "end_time": "2023-03-12T12:22:54.243640",
     "exception": false,
     "start_time": "2023-03-12T12:22:22.436852",
     "status": "completed"
    },
    "tags": []
   },
   "outputs": [
    {
     "name": "stdout",
     "output_type": "stream",
     "text": [
      "Processing /kaggle/input/sparse-dot-topn-033/sparse_dot_topn-0.3.3-cp37-cp37m-manylinux_2_17_x86_64.manylinux2014_x86_64.whl\r\n",
      "Requirement already satisfied: numpy>=1.14.5 in /opt/conda/lib/python3.7/site-packages (from sparse-dot-topn==0.3.3) (1.21.6)\r\n",
      "Requirement already satisfied: scipy>=1.2.3 in /opt/conda/lib/python3.7/site-packages (from sparse-dot-topn==0.3.3) (1.7.3)\r\n",
      "Installing collected packages: sparse-dot-topn\r\n",
      "Successfully installed sparse-dot-topn-0.3.3\r\n",
      "\u001b[33mWARNING: Running pip as the 'root' user can result in broken permissions and conflicting behaviour with the system package manager. It is recommended to use a virtual environment instead: https://pip.pypa.io/warnings/venv\u001b[0m\u001b[33m\r\n",
      "\u001b[0m\u001b[33mWARNING: There was an error checking the latest version of pip.\u001b[0m\u001b[33m\r\n",
      "\u001b[0m"
     ]
    }
   ],
   "source": [
    "!pip install /kaggle/input/sparse-dot-topn-033/sparse_dot_topn-0.3.3-cp37-cp37m-manylinux_2_17_x86_64.manylinux2014_x86_64.whl"
   ]
  },
  {
   "cell_type": "code",
   "execution_count": 2,
   "id": "4e7adb64",
   "metadata": {
    "execution": {
     "iopub.execute_input": "2023-03-12T12:22:54.260417Z",
     "iopub.status.busy": "2023-03-12T12:22:54.259539Z",
     "iopub.status.idle": "2023-03-12T12:23:17.639836Z",
     "shell.execute_reply": "2023-03-12T12:23:17.638270Z"
    },
    "papermill": {
     "duration": 23.391935,
     "end_time": "2023-03-12T12:23:17.642810",
     "exception": false,
     "start_time": "2023-03-12T12:22:54.250875",
     "status": "completed"
    },
    "tags": []
   },
   "outputs": [],
   "source": [
    "import numpy as np\n",
    "import pandas as pd\n",
    "from sklearn.feature_extraction.text import TfidfVectorizer\n",
    "from sparse_dot_topn import awesome_cossim_topn\n",
    "from tqdm import tqdm\n",
    "\n",
    "MAX_LEN = 16\n",
    "\n",
    "\n",
    "content_df = pd.read_csv(\"/kaggle/input/learning-equality-curriculum-recommendations/content.csv\")\n",
    "topic_df = pd.read_csv(\"/kaggle/input/learning-equality-curriculum-recommendations/topics.csv\")"
   ]
  },
  {
   "cell_type": "code",
   "execution_count": 3,
   "id": "d6161b71",
   "metadata": {
    "execution": {
     "iopub.execute_input": "2023-03-12T12:23:17.658605Z",
     "iopub.status.busy": "2023-03-12T12:23:17.658195Z",
     "iopub.status.idle": "2023-03-12T12:23:17.900050Z",
     "shell.execute_reply": "2023-03-12T12:23:17.899229Z"
    },
    "papermill": {
     "duration": 0.252413,
     "end_time": "2023-03-12T12:23:17.902270",
     "exception": false,
     "start_time": "2023-03-12T12:23:17.649857",
     "status": "completed"
    },
    "tags": []
   },
   "outputs": [
    {
     "data": {
      "text/plain": [
       "1.0"
      ]
     },
     "execution_count": 3,
     "metadata": {},
     "output_type": "execute_result"
    }
   ],
   "source": [
    "train_contents = np.load(\"/kaggle/input/lecr-precomputed/train_content_ids.npy\", allow_pickle=True)\n",
    "content_df[\"is_train\"] = content_df[\"id\"].isin(set(train_contents))\n",
    "content_df[\"is_train\"].mean()"
   ]
  },
  {
   "cell_type": "code",
   "execution_count": 4,
   "id": "c0982e82",
   "metadata": {
    "execution": {
     "iopub.execute_input": "2023-03-12T12:23:17.917858Z",
     "iopub.status.busy": "2023-03-12T12:23:17.917225Z",
     "iopub.status.idle": "2023-03-12T12:23:17.985524Z",
     "shell.execute_reply": "2023-03-12T12:23:17.984552Z"
    },
    "papermill": {
     "duration": 0.079016,
     "end_time": "2023-03-12T12:23:17.988213",
     "exception": false,
     "start_time": "2023-03-12T12:23:17.909197",
     "status": "completed"
    },
    "tags": []
   },
   "outputs": [],
   "source": [
    "content_df.loc[content_df[\"text\"] == content_df[\"description\"], \"text\"] = None\n",
    "content_df.loc[content_df[\"title\"] == content_df[\"description\"], \"description\"] = None"
   ]
  },
  {
   "cell_type": "code",
   "execution_count": 5,
   "id": "bd33b1b4",
   "metadata": {
    "execution": {
     "iopub.execute_input": "2023-03-12T12:23:18.004096Z",
     "iopub.status.busy": "2023-03-12T12:23:18.003359Z",
     "iopub.status.idle": "2023-03-12T12:23:19.523513Z",
     "shell.execute_reply": "2023-03-12T12:23:19.522263Z"
    },
    "papermill": {
     "duration": 1.530965,
     "end_time": "2023-03-12T12:23:19.526199",
     "exception": false,
     "start_time": "2023-03-12T12:23:17.995234",
     "status": "completed"
    },
    "tags": []
   },
   "outputs": [
    {
     "data": {
      "text/html": [
       "<style type='text/css'>\n",
       ".datatable table.frame { margin-bottom: 0; }\n",
       ".datatable table.frame thead { border-bottom: none; }\n",
       ".datatable table.frame tr.coltypes td {  color: #FFFFFF;  line-height: 6px;  padding: 0 0.5em;}\n",
       ".datatable .bool    { background: #DDDD99; }\n",
       ".datatable .object  { background: #565656; }\n",
       ".datatable .int     { background: #5D9E5D; }\n",
       ".datatable .float   { background: #4040CC; }\n",
       ".datatable .str     { background: #CC4040; }\n",
       ".datatable .time    { background: #40CC40; }\n",
       ".datatable .row_index {  background: var(--jp-border-color3);  border-right: 1px solid var(--jp-border-color0);  color: var(--jp-ui-font-color3);  font-size: 9px;}\n",
       ".datatable .frame tbody td { text-align: left; }\n",
       ".datatable .frame tr.coltypes .row_index {  background: var(--jp-border-color0);}\n",
       ".datatable th:nth-child(2) { padding-left: 12px; }\n",
       ".datatable .hellipsis {  color: var(--jp-cell-editor-border-color);}\n",
       ".datatable .vellipsis {  background: var(--jp-layout-color0);  color: var(--jp-cell-editor-border-color);}\n",
       ".datatable .na {  color: var(--jp-cell-editor-border-color);  font-size: 80%;}\n",
       ".datatable .sp {  opacity: 0.25;}\n",
       ".datatable .footer { font-size: 9px; }\n",
       ".datatable .frame_dimensions {  background: var(--jp-border-color3);  border-top: 1px solid var(--jp-border-color0);  color: var(--jp-ui-font-color3);  display: inline-block;  opacity: 0.6;  padding: 1px 10px 1px 5px;}\n",
       "</style>\n"
      ],
      "text/plain": [
       "<IPython.core.display.HTML object>"
      ]
     },
     "metadata": {},
     "output_type": "display_data"
    }
   ],
   "source": [
    "import lightgbm as lgb\n",
    "\n",
    "N_FOLDS = 4\n",
    "\n",
    "model_list = []\n",
    "for f in range(N_FOLDS):\n",
    "    lgb_model = lgb.Booster(model_file=f\"/kaggle/input/lecr-eff-525/lgb_{f}.txt\")\n",
    "    model_list.append(lgb_model)\n"
   ]
  },
  {
   "cell_type": "code",
   "execution_count": 6,
   "id": "93217589",
   "metadata": {
    "execution": {
     "iopub.execute_input": "2023-03-12T12:23:19.542177Z",
     "iopub.status.busy": "2023-03-12T12:23:19.541735Z",
     "iopub.status.idle": "2023-03-12T12:23:19.943018Z",
     "shell.execute_reply": "2023-03-12T12:23:19.941360Z"
    },
    "papermill": {
     "duration": 0.412008,
     "end_time": "2023-03-12T12:23:19.945420",
     "exception": false,
     "start_time": "2023-03-12T12:23:19.533412",
     "status": "completed"
    },
    "tags": []
   },
   "outputs": [
    {
     "name": "stdout",
     "output_type": "stream",
     "text": [
      "(61517, 9)\n",
      "(61517, 10)\n",
      "(61517, 12)\n",
      "(61517, 14)\n"
     ]
    },
    {
     "data": {
      "text/plain": [
       "(61517, 15)"
      ]
     },
     "execution_count": 6,
     "metadata": {},
     "output_type": "execute_result"
    }
   ],
   "source": [
    "import sys, os\n",
    "from tqdm import tqdm\n",
    "import numpy as np\n",
    "import pandas as pd\n",
    "from sklearn.preprocessing import LabelEncoder\n",
    "from sklearn.model_selection import train_test_split\n",
    "\n",
    "sub_df = pd.read_csv(\"/kaggle/input/learning-equality-curriculum-recommendations/sample_submission.csv\")\n",
    "\n",
    "topic_df[\"title\"] = topic_df[\"title\"].fillna(\"\")\n",
    "content_df[\"title\"].fillna(\"\", inplace=True)\n",
    "\n",
    "\n",
    "title_map = topic_df.set_index(\"id\")[\"title\"].to_dict()\n",
    "parent_map = topic_df.set_index(\"id\")[\"parent\"].to_dict()\n",
    "\n",
    "topic_df = topic_df[topic_df[\"has_content\"]].reset_index(drop=True)\n",
    "print(topic_df.shape)\n",
    "\n",
    "topic_df[\"parent_title\"] = topic_df[\"parent\"].apply(lambda x: title_map.get(x, \"\"))\n",
    "print(topic_df.shape)\n",
    "\n",
    "topic_df[\"grandpa\"] = topic_df[\"parent\"].apply(lambda x: parent_map.get(x))\n",
    "topic_df[\"grandpa_title\"] = topic_df[\"grandpa\"].apply(lambda x: title_map.get(x, \"\"))\n",
    "print(topic_df.shape)\n",
    "\n",
    "topic_df[\"ggrandpa\"] = topic_df[\"grandpa\"].apply(lambda x: parent_map.get(x))\n",
    "topic_df[\"ggrandpa_title\"] = topic_df[\"ggrandpa\"].apply(lambda x: title_map.get(x, \"\"))\n",
    "print(topic_df.shape)\n",
    "\n",
    "topic_df[\"parent\"] = topic_df[\"parent\"].fillna(topic_df[\"id\"])\n",
    "\n",
    "topic_df[\"sub\"] = topic_df[\"id\"].isin(sub_df[\"topic_id\"])\n",
    "topic_df.shape"
   ]
  },
  {
   "cell_type": "code",
   "execution_count": 7,
   "id": "69b10bcb",
   "metadata": {
    "execution": {
     "iopub.execute_input": "2023-03-12T12:23:19.962383Z",
     "iopub.status.busy": "2023-03-12T12:23:19.961978Z",
     "iopub.status.idle": "2023-03-12T12:23:20.732935Z",
     "shell.execute_reply": "2023-03-12T12:23:20.731645Z"
    },
    "papermill": {
     "duration": 0.782974,
     "end_time": "2023-03-12T12:23:20.735999",
     "exception": false,
     "start_time": "2023-03-12T12:23:19.953025",
     "status": "completed"
    },
    "tags": []
   },
   "outputs": [],
   "source": [
    "def extract_number(x, is_subtopic=False):\n",
    "    chapter, rest = x.split(\":\", 1)\n",
    "    \n",
    "    if is_subtopic:\n",
    "        chapter = chapter.split(\".\", 1)[0]\n",
    "        x = f\"{chapter}:{rest}\"\n",
    "    chapter = int(chapter)\n",
    "\n",
    "    return chapter, x\n",
    "\n",
    "\n",
    "def extract_chapters(df, is_subtopic):\n",
    "    titles = df[\"title\"].fillna(\"\").values\n",
    "    \n",
    "    chapters = np.zeros(len(titles))\n",
    "    new_titles = np.array(titles)\n",
    "    \n",
    "    for i, title in enumerate(titles):\n",
    "        try:\n",
    "            chapters[i], new_titles[i] = extract_number(title, is_subtopic)\n",
    "        except:\n",
    "            pass\n",
    "        \n",
    "    df[\"chapter\"], df[\"title\"] = chapters, new_titles\n",
    "    df[\"chapter\"] = df[\"chapter\"].astype(int)\n",
    "    \n",
    "    df.loc[df[\"chapter\"] == 0, \"chapter\"] = None\n",
    "    return df\n",
    "    \n",
    "content_df[\"t\"] = (content_df[\"title\"].fillna(\"\") + \" | \" + content_df[\"kind\"].fillna(\"\")\n",
    "                   + \" | \" + content_df[\"description\"].fillna(\"\").apply(lambda x: x[:256]) \n",
    "                   + \" | \" + content_df[\"text\"].fillna(\"\").apply(lambda x: x[:128]))\n",
    "\n",
    "topic_df = extract_chapters(topic_df, False)\n",
    "content_df = extract_chapters(content_df, True)"
   ]
  },
  {
   "cell_type": "code",
   "execution_count": 8,
   "id": "d742f53c",
   "metadata": {
    "execution": {
     "iopub.execute_input": "2023-03-12T12:23:20.754078Z",
     "iopub.status.busy": "2023-03-12T12:23:20.753634Z",
     "iopub.status.idle": "2023-03-12T12:23:20.879101Z",
     "shell.execute_reply": "2023-03-12T12:23:20.877837Z"
    },
    "papermill": {
     "duration": 0.137388,
     "end_time": "2023-03-12T12:23:20.882095",
     "exception": false,
     "start_time": "2023-03-12T12:23:20.744707",
     "status": "completed"
    },
    "tags": []
   },
   "outputs": [],
   "source": [
    "topic_df[\"t\"] = topic_df[\"title\"] + \" @ \" + topic_df[\"parent_title\"] + \" @ \" + topic_df[\"grandpa_title\"] + \" @ \" + topic_df[\"ggrandpa_title\"] + \" | \" + topic_df[\"description\"].fillna(\"\")"
   ]
  },
  {
   "cell_type": "code",
   "execution_count": 9,
   "id": "1888db61",
   "metadata": {
    "execution": {
     "iopub.execute_input": "2023-03-12T12:23:20.898918Z",
     "iopub.status.busy": "2023-03-12T12:23:20.898454Z",
     "iopub.status.idle": "2023-03-12T12:23:21.368406Z",
     "shell.execute_reply": "2023-03-12T12:23:21.367222Z"
    },
    "papermill": {
     "duration": 0.481363,
     "end_time": "2023-03-12T12:23:21.370834",
     "exception": false,
     "start_time": "2023-03-12T12:23:20.889471",
     "status": "completed"
    },
    "tags": []
   },
   "outputs": [
    {
     "data": {
      "text/html": [
       "<div>\n",
       "<style scoped>\n",
       "    .dataframe tbody tr th:only-of-type {\n",
       "        vertical-align: middle;\n",
       "    }\n",
       "\n",
       "    .dataframe tbody tr th {\n",
       "        vertical-align: top;\n",
       "    }\n",
       "\n",
       "    .dataframe thead th {\n",
       "        text-align: right;\n",
       "    }\n",
       "</style>\n",
       "<table border=\"1\" class=\"dataframe\">\n",
       "  <thead>\n",
       "    <tr style=\"text-align: right;\">\n",
       "      <th></th>\n",
       "      <th>topic_id</th>\n",
       "      <th>content_id</th>\n",
       "    </tr>\n",
       "  </thead>\n",
       "  <tbody>\n",
       "    <tr>\n",
       "      <th>0</th>\n",
       "      <td>t_00004da3a1b2</td>\n",
       "      <td>c_1108dd0c7a5d</td>\n",
       "    </tr>\n",
       "    <tr>\n",
       "      <th>1</th>\n",
       "      <td>t_00004da3a1b2</td>\n",
       "      <td>c_376c5a8eb028</td>\n",
       "    </tr>\n",
       "    <tr>\n",
       "      <th>2</th>\n",
       "      <td>t_00004da3a1b2</td>\n",
       "      <td>c_5bc0e1e2cba0</td>\n",
       "    </tr>\n",
       "    <tr>\n",
       "      <th>3</th>\n",
       "      <td>t_00004da3a1b2</td>\n",
       "      <td>c_76231f9d0b5e</td>\n",
       "    </tr>\n",
       "    <tr>\n",
       "      <th>4</th>\n",
       "      <td>t_00068291e9a4</td>\n",
       "      <td>c_639ea2ef9c95</td>\n",
       "    </tr>\n",
       "  </tbody>\n",
       "</table>\n",
       "</div>"
      ],
      "text/plain": [
       "         topic_id      content_id\n",
       "0  t_00004da3a1b2  c_1108dd0c7a5d\n",
       "1  t_00004da3a1b2  c_376c5a8eb028\n",
       "2  t_00004da3a1b2  c_5bc0e1e2cba0\n",
       "3  t_00004da3a1b2  c_76231f9d0b5e\n",
       "4  t_00068291e9a4  c_639ea2ef9c95"
      ]
     },
     "execution_count": 9,
     "metadata": {},
     "output_type": "execute_result"
    }
   ],
   "source": [
    "corr_df = pd.read_csv(\"/kaggle/input/learning-equality-curriculum-recommendations/correlations.csv\")\n",
    "\n",
    "corr_df[\"content_ids\"] = corr_df[\"content_ids\"].apply(lambda x: x.split())\n",
    "\n",
    "corr_df = corr_df.explode('content_ids').reset_index(drop=True).rename(columns={\"content_ids\": \"content_id\"})\n",
    "\n",
    "corr_df.head()"
   ]
  },
  {
   "cell_type": "code",
   "execution_count": 10,
   "id": "6c4c8c3a",
   "metadata": {
    "execution": {
     "iopub.execute_input": "2023-03-12T12:23:21.387592Z",
     "iopub.status.busy": "2023-03-12T12:23:21.387178Z",
     "iopub.status.idle": "2023-03-12T12:23:21.414801Z",
     "shell.execute_reply": "2023-03-12T12:23:21.413571Z"
    },
    "papermill": {
     "duration": 0.038811,
     "end_time": "2023-03-12T12:23:21.417384",
     "exception": false,
     "start_time": "2023-03-12T12:23:21.378573",
     "status": "completed"
    },
    "tags": []
   },
   "outputs": [],
   "source": [
    "topic_sub_df = topic_df[topic_df[\"sub\"]].reset_index(drop=True)"
   ]
  },
  {
   "cell_type": "code",
   "execution_count": 11,
   "id": "dc651567",
   "metadata": {
    "execution": {
     "iopub.execute_input": "2023-03-12T12:23:21.434236Z",
     "iopub.status.busy": "2023-03-12T12:23:21.433813Z",
     "iopub.status.idle": "2023-03-12T12:23:55.984503Z",
     "shell.execute_reply": "2023-03-12T12:23:55.983125Z"
    },
    "papermill": {
     "duration": 34.562211,
     "end_time": "2023-03-12T12:23:55.987245",
     "exception": false,
     "start_time": "2023-03-12T12:23:21.425034",
     "status": "completed"
    },
    "tags": []
   },
   "outputs": [
    {
     "name": "stdout",
     "output_type": "stream",
     "text": [
      "bg\n",
      "38991 2420 6050\n",
      "----\n",
      "pt\n",
      "39484 3425 10435\n",
      "----\n",
      "en\n",
      "121492 28053 65939\n",
      "----\n",
      "bg\n",
      "2940 2420 6050\n",
      "----\n",
      "pt\n",
      "4172 3425 10435\n",
      "----\n",
      "en\n",
      "12763 28053 65939\n",
      "----\n"
     ]
    }
   ],
   "source": [
    "from sklearn.feature_extraction.text import TfidfVectorizer\n",
    "from sparse_dot_topn import awesome_cossim_topn\n",
    "\n",
    "\n",
    "def get_matches(topic_df, content_df, title_only):\n",
    "    if title_only:\n",
    "        tfidf = TfidfVectorizer(ngram_range=(1, 1), min_df=2)\n",
    "        tfidf.fit(pd.concat([content_df[\"title\"], topic_df[\"title\"]]))\n",
    "    else:\n",
    "        tfidf = TfidfVectorizer(analyzer=\"char\", ngram_range=(4, 4), min_df=2)\n",
    "        tfidf.fit(pd.concat([content_df[\"t\"], topic_df[\"t\"]]))    \n",
    "    print(len(tfidf.vocabulary_), topic_df.shape[0], content_df.shape[0])\n",
    "    \n",
    "    train_df = topic_df[~topic_df[\"sub\"]].reset_index(drop=True)\n",
    "    \n",
    "    topic_df = topic_df[topic_df[\"sub\"]].reset_index(drop=True)\n",
    "    \n",
    "    if title_only:\n",
    "        V_topic = tfidf.transform(topic_df[\"title\"])\n",
    "        V_content = tfidf.transform(content_df[\"title\"])\n",
    "        V_train = tfidf.transform(train_df[\"title\"])\n",
    "    else:\n",
    "        V_topic = tfidf.transform(topic_df[\"title\"] + \" \" + topic_df[\"t\"])\n",
    "        V_content = tfidf.transform(content_df[\"title\"] + \" \" + content_df[\"t\"])\n",
    "        V_train = tfidf.transform(train_df[\"title\"] + \" \" + train_df[\"t\"])\n",
    "        \n",
    "        \n",
    "    score_col = \"match_score\"\n",
    "    if title_only:\n",
    "        score_col = \"match_score2\"\n",
    "\n",
    "    d = awesome_cossim_topn(V_topic, V_content.T, 20, 0.01, use_threads=True, n_jobs=4)\n",
    "\n",
    "    non_zeros = d.nonzero()\n",
    "\n",
    "    name_indices = non_zeros[0]\n",
    "    gt_indices = non_zeros[1]\n",
    "\n",
    "    content_ids = content_df[\"id\"].values\n",
    "    topic_ids = topic_df[\"id\"].values\n",
    "\n",
    "    left_side = np.empty(gt_indices.size, dtype=object)\n",
    "    right_side = np.empty(gt_indices.size, dtype=object)\n",
    "    match_score = np.zeros(gt_indices.size)\n",
    "\n",
    "    for index in range(gt_indices.size):\n",
    "        left_side[index] = topic_ids[name_indices[index]]\n",
    "        right_side[index] = content_ids[gt_indices[index]]\n",
    "        match_score[index] = d.data[index]\n",
    "\n",
    "    res_df = pd.DataFrame({\"topic_id\": left_side,\n",
    "                           'content_id': right_side,\n",
    "                           score_col: match_score\n",
    "                          })\n",
    "    \n",
    "    d = awesome_cossim_topn(V_topic, V_train.T, 1, 0.0, use_threads=True, n_jobs=4)\n",
    "\n",
    "    non_zeros = d.nonzero()\n",
    "\n",
    "    name_indices = non_zeros[0]\n",
    "    gt_indices = non_zeros[1]\n",
    "\n",
    "    train_ids = train_df[\"id\"].values\n",
    "\n",
    "    left_side = np.empty(gt_indices.size, dtype=object)\n",
    "    right_side = np.empty(gt_indices.size, dtype=object)\n",
    "    match_score = np.zeros(gt_indices.size)\n",
    "\n",
    "    for index in range(gt_indices.size):\n",
    "        left_side[index] = topic_ids[name_indices[index]]\n",
    "        right_side[index] = train_ids[gt_indices[index]]\n",
    "        match_score[index] = d.data[index]\n",
    "\n",
    "    topic_ref_df = pd.DataFrame({\"id\": left_side,\n",
    "                           'train_id': right_side,\n",
    "                           score_col: match_score\n",
    "                          })\n",
    "\n",
    "\n",
    "    return res_df, topic_ref_df\n",
    "\n",
    "def get_dfs(title_only):\n",
    "    res_dfs, topic_ref_dfs = [], []\n",
    "\n",
    "    for lang in topic_sub_df[\"language\"].unique():\n",
    "        print(lang)\n",
    "        content_df_lang = content_df[(content_df[\"language\"] == lang)].reset_index(drop=True)\n",
    "        topic_df_lang = topic_df[(topic_df[\"language\"] == lang)].reset_index(drop=True)\n",
    "\n",
    "        if content_df_lang.shape[0] > 0:\n",
    "            res_df, topic_ref_df = get_matches(topic_df_lang, content_df_lang, title_only)\n",
    "            res_dfs.append(res_df)\n",
    "            topic_ref_dfs.append(topic_ref_df)        \n",
    "        print(\"----\")\n",
    "\n",
    "    res_df = pd.concat(res_dfs)\n",
    "    topic_ref_df = pd.concat(topic_ref_dfs)\n",
    "    \n",
    "    return res_df, topic_ref_df\n",
    "\n",
    "res_df, topic_ref_df = get_dfs(False)\n",
    "res_df2, topic_ref_df2 = get_dfs(True)"
   ]
  },
  {
   "cell_type": "code",
   "execution_count": 12,
   "id": "d7125a1b",
   "metadata": {
    "execution": {
     "iopub.execute_input": "2023-03-12T12:23:56.005421Z",
     "iopub.status.busy": "2023-03-12T12:23:56.005006Z",
     "iopub.status.idle": "2023-03-12T12:23:56.056497Z",
     "shell.execute_reply": "2023-03-12T12:23:56.055406Z"
    },
    "papermill": {
     "duration": 0.063861,
     "end_time": "2023-03-12T12:23:56.059104",
     "exception": false,
     "start_time": "2023-03-12T12:23:55.995243",
     "status": "completed"
    },
    "tags": []
   },
   "outputs": [
    {
     "data": {
      "text/plain": [
       "(25, 3)"
      ]
     },
     "execution_count": 12,
     "metadata": {},
     "output_type": "execute_result"
    }
   ],
   "source": [
    "second_degree_match_df = topic_ref_df.merge(corr_df, left_on=\"train_id\", right_on=\"topic_id\")[[\"id\", \"content_id\"]]\n",
    "second_degree_match_df[\"second_degree\"] = True\n",
    "second_degree_match_df.rename(columns={\"id\": \"topic_id\"}, inplace=True)\n",
    "second_degree_match_df.shape"
   ]
  },
  {
   "cell_type": "code",
   "execution_count": 13,
   "id": "12535496",
   "metadata": {
    "execution": {
     "iopub.execute_input": "2023-03-12T12:23:56.077197Z",
     "iopub.status.busy": "2023-03-12T12:23:56.076751Z",
     "iopub.status.idle": "2023-03-12T12:23:56.122651Z",
     "shell.execute_reply": "2023-03-12T12:23:56.121666Z"
    },
    "papermill": {
     "duration": 0.058184,
     "end_time": "2023-03-12T12:23:56.125310",
     "exception": false,
     "start_time": "2023-03-12T12:23:56.067126",
     "status": "completed"
    },
    "tags": []
   },
   "outputs": [
    {
     "data": {
      "text/plain": [
       "(26, 3)"
      ]
     },
     "execution_count": 13,
     "metadata": {},
     "output_type": "execute_result"
    }
   ],
   "source": [
    "second_degree_match_df2 = topic_ref_df2.merge(corr_df, left_on=\"train_id\", right_on=\"topic_id\")[[\"id\", \"content_id\"]]\n",
    "second_degree_match_df2[\"second_degree2\"] = True\n",
    "second_degree_match_df2.rename(columns={\"id\": \"topic_id\"}, inplace=True)\n",
    "second_degree_match_df2.shape"
   ]
  },
  {
   "cell_type": "code",
   "execution_count": 14,
   "id": "44038213",
   "metadata": {
    "execution": {
     "iopub.execute_input": "2023-03-12T12:23:56.144570Z",
     "iopub.status.busy": "2023-03-12T12:23:56.144169Z",
     "iopub.status.idle": "2023-03-12T12:23:57.249668Z",
     "shell.execute_reply": "2023-03-12T12:23:57.248491Z"
    },
    "papermill": {
     "duration": 1.118221,
     "end_time": "2023-03-12T12:23:57.252181",
     "exception": false,
     "start_time": "2023-03-12T12:23:56.133960",
     "status": "completed"
    },
    "tags": []
   },
   "outputs": [
    {
     "data": {
      "text/html": [
       "<div>\n",
       "<style scoped>\n",
       "    .dataframe tbody tr th:only-of-type {\n",
       "        vertical-align: middle;\n",
       "    }\n",
       "\n",
       "    .dataframe tbody tr th {\n",
       "        vertical-align: top;\n",
       "    }\n",
       "\n",
       "    .dataframe thead th {\n",
       "        text-align: right;\n",
       "    }\n",
       "</style>\n",
       "<table border=\"1\" class=\"dataframe\">\n",
       "  <thead>\n",
       "    <tr style=\"text-align: right;\">\n",
       "      <th></th>\n",
       "      <th>topic_id</th>\n",
       "      <th>content_id</th>\n",
       "      <th>dup_count</th>\n",
       "    </tr>\n",
       "  </thead>\n",
       "  <tbody>\n",
       "    <tr>\n",
       "      <th>0</th>\n",
       "      <td>t_00069b63a70a</td>\n",
       "      <td>c_01a0e6e59063</td>\n",
       "      <td>1</td>\n",
       "    </tr>\n",
       "    <tr>\n",
       "      <th>1</th>\n",
       "      <td>t_00069b63a70a</td>\n",
       "      <td>c_037b8be79422</td>\n",
       "      <td>1</td>\n",
       "    </tr>\n",
       "    <tr>\n",
       "      <th>2</th>\n",
       "      <td>t_00069b63a70a</td>\n",
       "      <td>c_03b5ed305bcc</td>\n",
       "      <td>1</td>\n",
       "    </tr>\n",
       "    <tr>\n",
       "      <th>3</th>\n",
       "      <td>t_00069b63a70a</td>\n",
       "      <td>c_04a65a739d47</td>\n",
       "      <td>1</td>\n",
       "    </tr>\n",
       "    <tr>\n",
       "      <th>4</th>\n",
       "      <td>t_00069b63a70a</td>\n",
       "      <td>c_05ff8bd1fd30</td>\n",
       "      <td>1</td>\n",
       "    </tr>\n",
       "    <tr>\n",
       "      <th>...</th>\n",
       "      <td>...</td>\n",
       "      <td>...</td>\n",
       "      <td>...</td>\n",
       "    </tr>\n",
       "    <tr>\n",
       "      <th>149</th>\n",
       "      <td>t_00069b63a70a</td>\n",
       "      <td>c_fbb631d460b8</td>\n",
       "      <td>2</td>\n",
       "    </tr>\n",
       "    <tr>\n",
       "      <th>150</th>\n",
       "      <td>t_00069b63a70a</td>\n",
       "      <td>c_fbf85d018b8a</td>\n",
       "      <td>1</td>\n",
       "    </tr>\n",
       "    <tr>\n",
       "      <th>151</th>\n",
       "      <td>t_00069b63a70a</td>\n",
       "      <td>c_fda21411f22d</td>\n",
       "      <td>1</td>\n",
       "    </tr>\n",
       "    <tr>\n",
       "      <th>152</th>\n",
       "      <td>t_00069b63a70a</td>\n",
       "      <td>c_fe0ef07ada86</td>\n",
       "      <td>1</td>\n",
       "    </tr>\n",
       "    <tr>\n",
       "      <th>153</th>\n",
       "      <td>t_00069b63a70a</td>\n",
       "      <td>c_fef1b5057523</td>\n",
       "      <td>1</td>\n",
       "    </tr>\n",
       "  </tbody>\n",
       "</table>\n",
       "<p>154 rows × 3 columns</p>\n",
       "</div>"
      ],
      "text/plain": [
       "           topic_id      content_id  dup_count\n",
       "0    t_00069b63a70a  c_01a0e6e59063          1\n",
       "1    t_00069b63a70a  c_037b8be79422          1\n",
       "2    t_00069b63a70a  c_03b5ed305bcc          1\n",
       "3    t_00069b63a70a  c_04a65a739d47          1\n",
       "4    t_00069b63a70a  c_05ff8bd1fd30          1\n",
       "..              ...             ...        ...\n",
       "149  t_00069b63a70a  c_fbb631d460b8          2\n",
       "150  t_00069b63a70a  c_fbf85d018b8a          1\n",
       "151  t_00069b63a70a  c_fda21411f22d          1\n",
       "152  t_00069b63a70a  c_fe0ef07ada86          1\n",
       "153  t_00069b63a70a  c_fef1b5057523          1\n",
       "\n",
       "[154 rows x 3 columns]"
      ]
     },
     "execution_count": 14,
     "metadata": {},
     "output_type": "execute_result"
    }
   ],
   "source": [
    "topic_df.columns = [f\"topic_{col}\" for col in topic_df.columns]\n",
    "content_df.columns = [f\"content_{col}\" for col in content_df.columns]\n",
    "\n",
    "corr_df[\"target\"] = 1\n",
    "\n",
    "topic_df[\"key\"] = topic_df[\"topic_title\"].fillna(\"\") + \" | \" + topic_df[\"topic_description\"].fillna(\"\")\n",
    "\n",
    "train_df = topic_df[~topic_df[\"topic_sub\"]]\n",
    "\n",
    "lookup = train_df.merge(corr_df, on=\"topic_id\").groupby([\"key\", \"content_id\"])[\"topic_channel\"].count().reset_index()\n",
    "lookup.rename(columns={\"topic_channel\": \"dup_count\"}, inplace=True)\n",
    "\n",
    "    \n",
    "dup_df = topic_df[topic_df[\"topic_sub\"]][[\"topic_id\", \"key\"]].merge(lookup, on=[\"key\"])[[\"topic_id\", 'content_id', \"dup_count\"]]\n",
    "dup_df"
   ]
  },
  {
   "cell_type": "code",
   "execution_count": 15,
   "id": "9dfbe71a",
   "metadata": {
    "execution": {
     "iopub.execute_input": "2023-03-12T12:23:57.271736Z",
     "iopub.status.busy": "2023-03-12T12:23:57.271327Z",
     "iopub.status.idle": "2023-03-12T12:23:57.295899Z",
     "shell.execute_reply": "2023-03-12T12:23:57.294893Z"
    },
    "papermill": {
     "duration": 0.037307,
     "end_time": "2023-03-12T12:23:57.298281",
     "exception": false,
     "start_time": "2023-03-12T12:23:57.260974",
     "status": "completed"
    },
    "tags": []
   },
   "outputs": [
    {
     "data": {
      "text/plain": [
       "(329, 7)"
      ]
     },
     "execution_count": 15,
     "metadata": {},
     "output_type": "execute_result"
    }
   ],
   "source": [
    "res_df = res_df.merge(res_df2, how=\"outer\", on=[\"topic_id\", \"content_id\"])\n",
    "res_df = res_df.merge(dup_df, how=\"outer\", on=[\"topic_id\", \"content_id\"])\n",
    "res_df = res_df.merge(second_degree_match_df, how=\"outer\", on=[\"topic_id\", \"content_id\"])\n",
    "res_df = res_df.merge(second_degree_match_df2, how=\"outer\", on=[\"topic_id\", \"content_id\"])\n",
    "\n",
    "res_df.shape"
   ]
  },
  {
   "cell_type": "code",
   "execution_count": 16,
   "id": "a41b98cb",
   "metadata": {
    "execution": {
     "iopub.execute_input": "2023-03-12T12:23:57.317764Z",
     "iopub.status.busy": "2023-03-12T12:23:57.317409Z",
     "iopub.status.idle": "2023-03-12T12:23:58.253934Z",
     "shell.execute_reply": "2023-03-12T12:23:58.252452Z"
    },
    "papermill": {
     "duration": 0.950081,
     "end_time": "2023-03-12T12:23:58.257195",
     "exception": false,
     "start_time": "2023-03-12T12:23:57.307114",
     "status": "completed"
    },
    "tags": []
   },
   "outputs": [
    {
     "data": {
      "text/plain": [
       "(329, 8)"
      ]
     },
     "execution_count": 16,
     "metadata": {},
     "output_type": "execute_result"
    }
   ],
   "source": [
    "topic_df[\"key\"] = topic_df[\"topic_title\"].fillna(\"\")\n",
    "\n",
    "train_df = topic_df[~topic_df[\"topic_sub\"]]\n",
    "\n",
    "\n",
    "lookup = train_df.merge(corr_df, on=\"topic_id\").groupby([\"key\", \"content_id\"])[\"topic_channel\"].count().reset_index()\n",
    "lookup.rename(columns={\"topic_channel\": \"tdup_count\"}, inplace=True)\n",
    "\n",
    "dup_df = topic_df[topic_df[\"topic_sub\"]].merge(lookup, on=[\"key\"])[[\"topic_id\", 'content_id', \"tdup_count\"]]\n",
    "\n",
    "res_df = res_df.merge(dup_df, how=\"outer\", on=[\"topic_id\", \"content_id\"])\n",
    "res_df.shape"
   ]
  },
  {
   "cell_type": "code",
   "execution_count": 17,
   "id": "3dbda36f",
   "metadata": {
    "execution": {
     "iopub.execute_input": "2023-03-12T12:23:58.277176Z",
     "iopub.status.busy": "2023-03-12T12:23:58.276767Z",
     "iopub.status.idle": "2023-03-12T12:23:59.145987Z",
     "shell.execute_reply": "2023-03-12T12:23:59.144766Z"
    },
    "papermill": {
     "duration": 0.881983,
     "end_time": "2023-03-12T12:23:59.148361",
     "exception": false,
     "start_time": "2023-03-12T12:23:58.266378",
     "status": "completed"
    },
    "tags": []
   },
   "outputs": [
    {
     "data": {
      "text/plain": [
       "(531, 9)"
      ]
     },
     "execution_count": 17,
     "metadata": {},
     "output_type": "execute_result"
    }
   ],
   "source": [
    "topic_df[\"key\"] = topic_df[\"topic_parent\"].fillna(topic_df[\"topic_id\"])\n",
    "\n",
    "train_df = topic_df[~topic_df[\"topic_sub\"]]\n",
    "\n",
    "\n",
    "lookup = train_df.merge(corr_df, on=\"topic_id\").groupby([\"key\", \"content_id\"])[\"topic_channel\"].count().reset_index()\n",
    "lookup.rename(columns={\"topic_channel\": \"pdup_count\"}, inplace=True)\n",
    "\n",
    "dup_df = topic_df[topic_df[\"topic_sub\"]].merge(lookup, on=[\"key\"])[[\"topic_id\", 'content_id', \"pdup_count\"]]\n",
    "\n",
    "res_df = res_df.merge(dup_df, how=\"outer\", on=[\"topic_id\", \"content_id\"])\n",
    "res_df.shape"
   ]
  },
  {
   "cell_type": "code",
   "execution_count": 18,
   "id": "6ba3c4fb",
   "metadata": {
    "execution": {
     "iopub.execute_input": "2023-03-12T12:23:59.168252Z",
     "iopub.status.busy": "2023-03-12T12:23:59.167875Z",
     "iopub.status.idle": "2023-03-12T12:23:59.305320Z",
     "shell.execute_reply": "2023-03-12T12:23:59.304126Z"
    },
    "papermill": {
     "duration": 0.150196,
     "end_time": "2023-03-12T12:23:59.307723",
     "exception": false,
     "start_time": "2023-03-12T12:23:59.157527",
     "status": "completed"
    },
    "tags": []
   },
   "outputs": [
    {
     "data": {
      "text/plain": [
       "(531, 36)"
      ]
     },
     "execution_count": 18,
     "metadata": {},
     "output_type": "execute_result"
    }
   ],
   "source": [
    "res_df = res_df.merge(topic_df[topic_df[\"topic_sub\"]], on=\"topic_id\", how=\"left\")\n",
    "res_df = res_df.merge(content_df, on=\"content_id\", how=\"left\")\n",
    "\n",
    "res_df.shape"
   ]
  },
  {
   "cell_type": "code",
   "execution_count": 19,
   "id": "7dfaa478",
   "metadata": {
    "execution": {
     "iopub.execute_input": "2023-03-12T12:23:59.328192Z",
     "iopub.status.busy": "2023-03-12T12:23:59.327800Z",
     "iopub.status.idle": "2023-03-12T12:23:59.346263Z",
     "shell.execute_reply": "2023-03-12T12:23:59.345112Z"
    },
    "papermill": {
     "duration": 0.031999,
     "end_time": "2023-03-12T12:23:59.348738",
     "exception": false,
     "start_time": "2023-03-12T12:23:59.316739",
     "status": "completed"
    },
    "tags": []
   },
   "outputs": [],
   "source": [
    "res_df[\"topic_language\"] = res_df[\"topic_language\"].astype(\"category\")\n",
    "res_df[\"topic_category\"] = res_df[\"topic_category\"].astype(\"category\")\n",
    "res_df[\"content_kind\"] = res_df[\"content_kind\"].astype(\"category\")\n",
    "res_df[\"topic_channel\"] = res_df[\"topic_channel\"].astype(\"category\")\n",
    "\n",
    "res_df[\"len_topic_title\"] = res_df[\"topic_title\"].fillna(\"\").apply(len)\n",
    "res_df[\"len_topic_description\"] = res_df[\"topic_description\"].fillna(\"\").apply(len)\n",
    "res_df[\"len_content_title\"] = res_df[\"content_title\"].fillna(\"\").apply(len)\n",
    "res_df[\"len_content_description\"] = res_df[\"content_description\"].fillna(\"\").apply(len)\n",
    "res_df[\"len_content_text\"] = res_df[\"content_text\"].fillna(\"\").apply(len)"
   ]
  },
  {
   "cell_type": "code",
   "execution_count": 20,
   "id": "00a1bc6a",
   "metadata": {
    "execution": {
     "iopub.execute_input": "2023-03-12T12:23:59.368769Z",
     "iopub.status.busy": "2023-03-12T12:23:59.368404Z",
     "iopub.status.idle": "2023-03-12T12:23:59.396100Z",
     "shell.execute_reply": "2023-03-12T12:23:59.395120Z"
    },
    "papermill": {
     "duration": 0.040831,
     "end_time": "2023-03-12T12:23:59.398732",
     "exception": false,
     "start_time": "2023-03-12T12:23:59.357901",
     "status": "completed"
    },
    "tags": []
   },
   "outputs": [],
   "source": [
    "res_df[\"match_score_max\"] = res_df.groupby(\"topic_id\")[\"match_score\"].transform(\"max\")\n",
    "res_df[\"match_score_min\"] = res_df.groupby(\"topic_id\")[\"match_score\"].transform(\"min\")\n",
    "\n",
    "res_df[\"match_score2_max\"] = res_df.groupby(\"topic_id\")[\"match_score2\"].transform(\"max\")\n",
    "res_df[\"match_score2_min\"] = res_df.groupby(\"topic_id\")[\"match_score2\"].transform(\"min\")\n",
    "\n",
    "res_df[\"dup_count\"] = res_df[\"dup_count\"].fillna(0)\n",
    "res_df[\"total_count\"] = res_df.groupby(\"topic_id\")[\"content_id\"].transform(\"count\")\n",
    "res_df[\"dup_count_mean\"] = res_df.groupby(\"topic_id\")[\"dup_count\"].transform(\"mean\")\n",
    "\n",
    "res_df[\"tdup_count\"] = res_df[\"tdup_count\"].fillna(0)\n",
    "res_df[\"tdup_count_mean\"] = res_df.groupby(\"topic_id\")[\"tdup_count\"].transform(\"mean\")\n",
    "\n",
    "res_df[\"pdup_count\"] = res_df[\"pdup_count\"].fillna(0)\n",
    "res_df[\"pdup_count_mean\"] = res_df.groupby(\"topic_id\")[\"pdup_count\"].transform(\"mean\")\n",
    "\n",
    "res_df[\"same_chapter\"] = res_df[\"topic_chapter\"] == res_df[\"content_chapter\"]\n",
    "res_df[\"starts_same\"] = res_df[\"topic_title\"].apply(lambda x: x.split(\" \", 1)[0]) == res_df[\"content_title\"].apply(lambda x: x.split(\" \", 1)[0])"
   ]
  },
  {
   "cell_type": "code",
   "execution_count": 21,
   "id": "ba111f38",
   "metadata": {
    "execution": {
     "iopub.execute_input": "2023-03-12T12:23:59.419466Z",
     "iopub.status.busy": "2023-03-12T12:23:59.419057Z",
     "iopub.status.idle": "2023-03-12T12:23:59.429092Z",
     "shell.execute_reply": "2023-03-12T12:23:59.427928Z"
    },
    "papermill": {
     "duration": 0.023412,
     "end_time": "2023-03-12T12:23:59.431576",
     "exception": false,
     "start_time": "2023-03-12T12:23:59.408164",
     "status": "completed"
    },
    "tags": []
   },
   "outputs": [],
   "source": [
    "res_df[\"second_degree\"].fillna(False, inplace=True)\n",
    "res_df[\"second_degree2\"].fillna(False, inplace=True)\n",
    "\n",
    "res_df[\"topic_max_train_score\"] = res_df[\"topic_id\"].map(topic_ref_df.set_index(\"id\")[\"match_score\"].to_dict())"
   ]
  },
  {
   "cell_type": "code",
   "execution_count": 22,
   "id": "680ec401",
   "metadata": {
    "execution": {
     "iopub.execute_input": "2023-03-12T12:23:59.452367Z",
     "iopub.status.busy": "2023-03-12T12:23:59.451955Z",
     "iopub.status.idle": "2023-03-12T12:23:59.578812Z",
     "shell.execute_reply": "2023-03-12T12:23:59.577663Z"
    },
    "papermill": {
     "duration": 0.140377,
     "end_time": "2023-03-12T12:23:59.581474",
     "exception": false,
     "start_time": "2023-03-12T12:23:59.441097",
     "status": "completed"
    },
    "tags": []
   },
   "outputs": [],
   "source": [
    "features = [\"match_score\", \"match_score_max\", \"match_score_min\",\n",
    "            \"match_score2\", \"match_score2_max\", \"match_score2_min\",\n",
    "            \"len_content_text\",\n",
    "            \"len_topic_title\", \"len_topic_description\", \"len_content_title\", \"len_content_description\",\n",
    "             \"dup_count\", \"total_count\", \"dup_count_mean\",\n",
    "            \"tdup_count\", \"tdup_count_mean\", \"pdup_count\", \"pdup_count_mean\",\n",
    "            \"topic_language\", \"topic_category\", \"content_kind\", \"topic_level\",\n",
    "            \"same_chapter\", \"starts_same\", \"content_is_train\", \"topic_channel\", \n",
    "            #\"content_max_train_score\", \n",
    "            \"topic_max_train_score\", \"second_degree\", \"second_degree2\"\n",
    "           ]\n",
    "res_df[\"pred\"] = 0\n",
    "\n",
    "for f in range(N_FOLDS):\n",
    "    res_df[\"pred\"] += model_list[f].predict(res_df[features]) / N_FOLDS"
   ]
  },
  {
   "cell_type": "code",
   "execution_count": 23,
   "id": "698eca64",
   "metadata": {
    "execution": {
     "iopub.execute_input": "2023-03-12T12:23:59.601474Z",
     "iopub.status.busy": "2023-03-12T12:23:59.601086Z",
     "iopub.status.idle": "2023-03-12T12:23:59.627352Z",
     "shell.execute_reply": "2023-03-12T12:23:59.626410Z"
    },
    "papermill": {
     "duration": 0.039795,
     "end_time": "2023-03-12T12:23:59.630128",
     "exception": false,
     "start_time": "2023-03-12T12:23:59.590333",
     "status": "completed"
    },
    "tags": []
   },
   "outputs": [],
   "source": [
    "res_df[\"rank\"] = res_df.groupby(\"topic_id\")[\"pred\"].rank(method=\"first\", ascending=False)\n",
    "\n",
    "res_df[\"gap\"] = res_df.groupby(\"topic_id\")[\"pred\"].transform(\"max\") - res_df[\"pred\"]\n",
    "\n",
    "res_df[\"content_dist\"] = res_df[\"gap\"] + res_df.groupby(\"content_id\")[\"pred\"].transform(\"max\") - res_df[\"pred\"]\n",
    "\n",
    "res_df[\"content_rank\"] = res_df.groupby(\"content_id\")[\"content_dist\"].rank(method=\"first\")\n",
    "\n",
    "pred_df = res_df[(res_df[\"rank\"] == 1) | \n",
    "                 ((res_df[\"gap\"] < 0.25) & res_df[\"content_is_train\"] & (res_df[\"pred\"] > 0.05)) | \n",
    "                 (~res_df[\"content_is_train\"] & (res_df[\"content_rank\"] == 1) & (res_df[\"content_dist\"] < 0.65)) | \n",
    "                 (~res_df[\"content_is_train\"] & (res_df[\"gap\"] < 0.05))]\n",
    "\n",
    "pred_df = pred_df.groupby(\"topic_id\")[\"content_id\"].apply(lambda x: \" \".join(list(x)))\n",
    "pred_df = pred_df.reset_index().rename(columns={\"content_id\": 'content_ids'})"
   ]
  },
  {
   "cell_type": "code",
   "execution_count": 24,
   "id": "63e403b7",
   "metadata": {
    "execution": {
     "iopub.execute_input": "2023-03-12T12:23:59.650297Z",
     "iopub.status.busy": "2023-03-12T12:23:59.649923Z",
     "iopub.status.idle": "2023-03-12T12:23:59.664723Z",
     "shell.execute_reply": "2023-03-12T12:23:59.663499Z"
    },
    "papermill": {
     "duration": 0.028025,
     "end_time": "2023-03-12T12:23:59.667255",
     "exception": false,
     "start_time": "2023-03-12T12:23:59.639230",
     "status": "completed"
    },
    "tags": []
   },
   "outputs": [
    {
     "data": {
      "text/html": [
       "<div>\n",
       "<style scoped>\n",
       "    .dataframe tbody tr th:only-of-type {\n",
       "        vertical-align: middle;\n",
       "    }\n",
       "\n",
       "    .dataframe tbody tr th {\n",
       "        vertical-align: top;\n",
       "    }\n",
       "\n",
       "    .dataframe thead th {\n",
       "        text-align: right;\n",
       "    }\n",
       "</style>\n",
       "<table border=\"1\" class=\"dataframe\">\n",
       "  <thead>\n",
       "    <tr style=\"text-align: right;\">\n",
       "      <th></th>\n",
       "      <th>topic_id</th>\n",
       "      <th>content_ids</th>\n",
       "    </tr>\n",
       "  </thead>\n",
       "  <tbody>\n",
       "    <tr>\n",
       "      <th>0</th>\n",
       "      <td>t_00004da3a1b2</td>\n",
       "      <td>c_2b6301d9ada5 c_e1e8557d7c61 c_0b4a3ea959ba c...</td>\n",
       "    </tr>\n",
       "    <tr>\n",
       "      <th>1</th>\n",
       "      <td>t_00068291e9a4</td>\n",
       "      <td>c_e88be716634d c_ebb7fdf10a7e c_639ea2ef9c95 c...</td>\n",
       "    </tr>\n",
       "    <tr>\n",
       "      <th>2</th>\n",
       "      <td>t_00069b63a70a</td>\n",
       "      <td>c_428ea1835953</td>\n",
       "    </tr>\n",
       "    <tr>\n",
       "      <th>3</th>\n",
       "      <td>t_0006d41a73a8</td>\n",
       "      <td>c_9c8d565139fb c_1c57a1316568 c_0efcce41c54e c...</td>\n",
       "    </tr>\n",
       "    <tr>\n",
       "      <th>4</th>\n",
       "      <td>t_4054df11a74e</td>\n",
       "      <td>c_11a1dc0bfb99 c_841ceaeb5125 c_ba9ecebede11 c...</td>\n",
       "    </tr>\n",
       "  </tbody>\n",
       "</table>\n",
       "</div>"
      ],
      "text/plain": [
       "         topic_id                                        content_ids\n",
       "0  t_00004da3a1b2  c_2b6301d9ada5 c_e1e8557d7c61 c_0b4a3ea959ba c...\n",
       "1  t_00068291e9a4  c_e88be716634d c_ebb7fdf10a7e c_639ea2ef9c95 c...\n",
       "2  t_00069b63a70a                                     c_428ea1835953\n",
       "3  t_0006d41a73a8  c_9c8d565139fb c_1c57a1316568 c_0efcce41c54e c...\n",
       "4  t_4054df11a74e  c_11a1dc0bfb99 c_841ceaeb5125 c_ba9ecebede11 c..."
      ]
     },
     "execution_count": 24,
     "metadata": {},
     "output_type": "execute_result"
    }
   ],
   "source": [
    "res_df = topic_df[topic_df[\"topic_sub\"]][[\"topic_id\"]].merge(pred_df, on=\"topic_id\", how=\"left\")\n",
    "res_df[\"content_ids\"].fillna(\"\", inplace=True)\n",
    "res_df"
   ]
  },
  {
   "cell_type": "code",
   "execution_count": 25,
   "id": "596f4454",
   "metadata": {
    "execution": {
     "iopub.execute_input": "2023-03-12T12:23:59.687962Z",
     "iopub.status.busy": "2023-03-12T12:23:59.687513Z",
     "iopub.status.idle": "2023-03-12T12:23:59.698399Z",
     "shell.execute_reply": "2023-03-12T12:23:59.697235Z"
    },
    "papermill": {
     "duration": 0.02467,
     "end_time": "2023-03-12T12:23:59.701157",
     "exception": false,
     "start_time": "2023-03-12T12:23:59.676487",
     "status": "completed"
    },
    "tags": []
   },
   "outputs": [],
   "source": [
    "res_df.to_csv(\"submission.csv\", index=False)"
   ]
  },
  {
   "cell_type": "code",
   "execution_count": null,
   "id": "a40d66aa",
   "metadata": {
    "papermill": {
     "duration": 0.008951,
     "end_time": "2023-03-12T12:23:59.719407",
     "exception": false,
     "start_time": "2023-03-12T12:23:59.710456",
     "status": "completed"
    },
    "tags": []
   },
   "outputs": [],
   "source": []
  }
 ],
 "metadata": {
  "kernelspec": {
   "display_name": "Python 3",
   "language": "python",
   "name": "python3"
  },
  "language_info": {
   "codemirror_mode": {
    "name": "ipython",
    "version": 3
   },
   "file_extension": ".py",
   "mimetype": "text/x-python",
   "name": "python",
   "nbconvert_exporter": "python",
   "pygments_lexer": "ipython3",
   "version": "3.7.12"
  },
  "papermill": {
   "default_parameters": {},
   "duration": 107.993862,
   "end_time": "2023-03-12T12:24:00.754090",
   "environment_variables": {},
   "exception": null,
   "input_path": "__notebook__.ipynb",
   "output_path": "__notebook__.ipynb",
   "parameters": {},
   "start_time": "2023-03-12T12:22:12.760228",
   "version": "2.4.0"
  }
 },
 "nbformat": 4,
 "nbformat_minor": 5
}
